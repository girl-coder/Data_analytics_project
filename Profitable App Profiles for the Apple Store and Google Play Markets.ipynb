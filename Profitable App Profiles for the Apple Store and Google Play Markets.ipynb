{
 "cells": [
  {
   "cell_type": "markdown",
   "metadata": {},
   "source": [
    "# Profitable App Profile for the Apple Store and Google Play Markets\n",
    "\n",
    "The project Profitable App Profile For the Apple Store and Google Play Markets has a goal of finding the apps which can create more revenue for the company. Result set will assist us in finding what type of apps are likely to attract more users.\n",
    "\n",
    "We only build apps that are free to download and install, and our main source of revenue consists of in-app ads. This means our revenue for any given app is mostly influenced by the number of users who use our app — the more users that see and engage with the ads, the better. Our goal for this project is to analyze data to help our developers understand what type of apps are likely to attract more users. To Do so, We will be analysing the data about number of google apps and apple store apps."
   ]
  },
  {
   "cell_type": "markdown",
   "metadata": {},
   "source": [
    "* We have data from Apple Store captured in AppleStore.csv.\n",
    "* AppleStore.csv has data in form of rows and coloumns.\n",
    "* We have created list of list using dataset stored in AppleStore.csv. Each individual list corresponds to each row in our csv file."
   ]
  },
  {
   "cell_type": "code",
   "execution_count": 1,
   "metadata": {},
   "outputs": [],
   "source": [
    "opened_file = open('C:\\\\Users\\shaveta\\Datasets\\AppleStore.csv',encoding='utf8')\n",
    "from csv import reader\n",
    "read_file = reader(opened_file)\n",
    "Apple_apps_data = list(read_file)"
   ]
  },
  {
   "cell_type": "markdown",
   "metadata": {},
   "source": [
    "* Similarly, we have data from Google Play Store in googleplaystore.csv.\n",
    "* We have created list of list using dataset stored in csv file."
   ]
  },
  {
   "cell_type": "code",
   "execution_count": 2,
   "metadata": {},
   "outputs": [],
   "source": [
    "opened_file = open('C:\\\\Users\\shaveta\\Datasets\\googleplaystore.csv',encoding='utf8')\n",
    "read_file = reader(opened_file)\n",
    "Google_apps_data = list(read_file)"
   ]
  },
  {
   "cell_type": "markdown",
   "metadata": {},
   "source": [
    "## Exploring the DataSet"
   ]
  },
  {
   "cell_type": "markdown",
   "metadata": {},
   "source": [
    "* To explore the data, we have written a function, which displays header information along with few rows to explore.\n",
    "* It also displays the Number of headers and coloums in dataset."
   ]
  },
  {
   "cell_type": "code",
   "execution_count": 3,
   "metadata": {},
   "outputs": [],
   "source": [
    "def explore_data(dataset,start,end,rows_and_coloums=False):\n",
    "    new_dataset = dataset[start:end]\n",
    "    for row in new_dataset:\n",
    "        print(row)\n",
    "        print(\"\\n\")\n",
    "    if rows_and_coloums:\n",
    "        print(\"Number of rows:\",len(dataset))\n",
    "        print(\"Number of coloumns:\",len(dataset[0]))\n",
    "        print(\"\\n\")"
   ]
  },
  {
   "cell_type": "markdown",
   "metadata": {},
   "source": [
    "* We have explored the both the datasets by calling the explore function which will give us the brief information\n",
    "  about the each dataset."
   ]
  },
  {
   "cell_type": "code",
   "execution_count": 4,
   "metadata": {},
   "outputs": [
    {
     "name": "stdout",
     "output_type": "stream",
     "text": [
      "Google Store Apps Data:\n",
      "['App', 'Category', 'Rating', 'Reviews', 'Size', 'Installs', 'Type', 'Price', 'Content Rating', 'Genres', 'Last Updated', 'Current Ver', 'Android Ver']\n",
      "['Sketch - Draw & Paint', 'ART_AND_DESIGN', '4.5', '215644', '25M', '50,000,000+', 'Free', '0', 'Teen', 'Art & Design', 'June 8, 2018', 'Varies with device', '4.2 and up']\n",
      "\n",
      "\n",
      "['Pixel Draw - Number Art Coloring Book', 'ART_AND_DESIGN', '4.3', '967', '2.8M', '100,000+', 'Free', '0', 'Everyone', 'Art & Design;Creativity', 'June 20, 2018', '1.1', '4.4 and up']\n",
      "\n",
      "\n",
      "['Paper flowers instructions', 'ART_AND_DESIGN', '4.4', '167', '5.6M', '50,000+', 'Free', '0', 'Everyone', 'Art & Design', 'March 26, 2017', '1.0', '2.3 and up']\n",
      "\n",
      "\n",
      "['Smoke Effect Photo Maker - Smoke Editor', 'ART_AND_DESIGN', '3.8', '178', '19M', '50,000+', 'Free', '0', 'Everyone', 'Art & Design', 'April 26, 2018', '1.1', '4.0.3 and up']\n",
      "\n",
      "\n",
      "['Infinite Painter', 'ART_AND_DESIGN', '4.1', '36815', '29M', '1,000,000+', 'Free', '0', 'Everyone', 'Art & Design', 'June 14, 2018', '6.1.61.1', '4.2 and up']\n",
      "\n",
      "\n",
      "['Garden Coloring Book', 'ART_AND_DESIGN', '4.4', '13791', '33M', '1,000,000+', 'Free', '0', 'Everyone', 'Art & Design', 'September 20, 2017', '2.9.2', '3.0 and up']\n",
      "\n",
      "\n",
      "Number of rows: 10842\n",
      "Number of coloumns: 13\n",
      "\n",
      "\n",
      "Apple Store Apps Data:\n",
      "['', 'id', 'track_name', 'size_bytes', 'currency', 'price', 'rating_count_tot', 'rating_count_ver', 'user_rating', 'user_rating_ver', 'ver', 'cont_rating', 'prime_genre', 'sup_devices.num', 'ipadSc_urls.num', 'lang.num', 'vpp_lic']\n",
      "['21', '285005463', 'Crash Bandicoot Nitro Kart 3D', '10735026', 'USD', '2.99', '31456', '4178', '4', '3.5', '1.0.0', '4+', 'Games', '47', '0', '1', '1']\n",
      "\n",
      "\n",
      "['22', '285946052', 'iQuran', '70707916', 'USD', '1.99', '2929', '966', '4.5', '4.5', '3.3', '4+', 'Reference', '43', '0', '2', '1']\n",
      "\n",
      "\n",
      "['23', '285994151', ':) Sudoku +', '6169600', 'USD', '2.99', '11447', '781', '5', '5', '5.2.6', '4+', 'Games', '40', '5', '1', '1']\n",
      "\n",
      "\n",
      "['24', '286058814', 'Yahoo Sports - Teams, Scores, News & Highlights', '130583552', 'USD', '0', '137951', '131', '4', '4.5', '6.9', '4+', 'Sports', '37', '2', '6', '1']\n",
      "\n",
      "\n",
      "['25', '286070473', 'Mileage Log | Fahrtenbuch', '71203840', 'USD', '5.99', '8', '0', '4.5', '0', '9.0.5', '4+', 'Business', '37', '5', '3', '1']\n",
      "\n",
      "\n",
      "Number of rows: 7198\n",
      "Number of coloumns: 17\n",
      "\n",
      "\n"
     ]
    }
   ],
   "source": [
    "print(\"Google Store Apps Data:\")\n",
    "print(Google_apps_data[0])\n",
    "explore_data(Google_apps_data,4,10,True)\n",
    "\n",
    "print(\"Apple Store Apps Data:\")\n",
    "print(Apple_apps_data[0])\n",
    "explore_data(Apple_apps_data,20,25,True)"
   ]
  },
  {
   "cell_type": "markdown",
   "metadata": {},
   "source": [
    "## Removing the Erroneous Data from DataSet"
   ]
  },
  {
   "cell_type": "markdown",
   "metadata": {},
   "source": [
    "* The dataset printed above will help us identify the columns which will help us in identifying the high profitable\n",
    "  apps.\n",
    "* In Google store app data we can use Rating, Reviews, Installs and Content rating as our measuring criteria for apps.\n",
    "* In Case of Apple store app data we have rating count, user rating count to do the job of analysation.\n",
    "* If we are not able to identify the columns actual description, we can always refer to the below links to understand description of each column.\n",
    "* Links: \n",
    "    1. [https://www.kaggle.com/lava18/google-play-store-apps/home]\n",
    "    2. [https://www.kaggle.com/ramamet4/app-store-apple-data-set-10k-apps/home]"
   ]
  },
  {
   "cell_type": "markdown",
   "metadata": {},
   "source": [
    "* After analysing the data in Google Play Store List, we have observed there are certain rows which does not have data filled in all of their coressponding coloums."
   ]
  },
  {
   "cell_type": "code",
   "execution_count": 5,
   "metadata": {},
   "outputs": [
    {
     "name": "stdout",
     "output_type": "stream",
     "text": [
      "['Life Made WI-Fi Touchscreen Photo Frame', '1.9', '19', '3.0M', '1,000+', 'Free', '0', 'Everyone', '', 'February 11, 2018', '1.0.19', '4.0 and up']\n"
     ]
    }
   ],
   "source": [
    "print(Google_apps_data[10473])"
   ]
  },
  {
   "cell_type": "markdown",
   "metadata": {},
   "source": [
    "* We don't want erroneous data in our dataset as it could lead to inprecise result.\n",
    "* Thus, we have deleted row indexed at 10473 from our dataset."
   ]
  },
  {
   "cell_type": "code",
   "execution_count": 6,
   "metadata": {},
   "outputs": [
    {
     "name": "stdout",
     "output_type": "stream",
     "text": [
      "10842\n",
      "10841\n"
     ]
    }
   ],
   "source": [
    "print(len(Google_apps_data))\n",
    "del Google_apps_data[10473]\n",
    "print(len(Google_apps_data))"
   ]
  },
  {
   "cell_type": "markdown",
   "metadata": {},
   "source": [
    "## Removing the Duplicate Rows"
   ]
  },
  {
   "cell_type": "markdown",
   "metadata": {},
   "source": [
    "* Google apps data set also contains duplicate data for each row.\n",
    "* We have depicted the duplicate rows using the below code.\n",
    "* We have looped through Google App Store dataset excluding the Header Row.\n",
    "* Within each loop we have checked if the app name is \"Instagram\", If yes, we will print the entire row."
   ]
  },
  {
   "cell_type": "code",
   "execution_count": 7,
   "metadata": {},
   "outputs": [
    {
     "name": "stdout",
     "output_type": "stream",
     "text": [
      "['Instagram', 'SOCIAL', '4.5', '66577313', 'Varies with device', '1,000,000,000+', 'Free', '0', 'Teen', 'Social', 'July 31, 2018', 'Varies with device', 'Varies with device']\n",
      "\n",
      "\n",
      "['Instagram', 'SOCIAL', '4.5', '66577446', 'Varies with device', '1,000,000,000+', 'Free', '0', 'Teen', 'Social', 'July 31, 2018', 'Varies with device', 'Varies with device']\n",
      "\n",
      "\n",
      "['Instagram', 'SOCIAL', '4.5', '66577313', 'Varies with device', '1,000,000,000+', 'Free', '0', 'Teen', 'Social', 'July 31, 2018', 'Varies with device', 'Varies with device']\n",
      "\n",
      "\n",
      "['Instagram', 'SOCIAL', '4.5', '66509917', 'Varies with device', '1,000,000,000+', 'Free', '0', 'Teen', 'Social', 'July 31, 2018', 'Varies with device', 'Varies with device']\n",
      "\n",
      "\n"
     ]
    }
   ],
   "source": [
    "for row in Google_apps_data[1:]:\n",
    "    if row[0] == \"Instagram\":\n",
    "        print(row)\n",
    "        print(\"\\n\")"
   ]
  },
  {
   "cell_type": "markdown",
   "metadata": {},
   "source": [
    "* As we can see above we have multiple entries for a single APP.\n",
    "* Now we have counted number of duplicate rows in our dataset, So that we can work on unique set of rows in our dataset."
   ]
  },
  {
   "cell_type": "code",
   "execution_count": 8,
   "metadata": {},
   "outputs": [
    {
     "name": "stdout",
     "output_type": "stream",
     "text": [
      "Count of Duplicate Rows: 1181\n",
      "Count of unique Rows: 9660\n"
     ]
    }
   ],
   "source": [
    "duplicate=[]                          # To Store the Duplicate Value of each Row.\n",
    "unique=[]                             # To Store each row uniquely.\n",
    "\n",
    "for row in Google_apps_data[1:]:\n",
    "    name = row[0]                     # Store the App Name.\n",
    "    if name in unique:                # Check if App name exists in unique.\n",
    "        duplicate.append(name)        # If yes, Its duplicate row.\n",
    "    else:\n",
    "        unique.append(name)           # If no, Its unique row.\n",
    "        \n",
    "print(\"Count of Duplicate Rows:\",len(duplicate))    # count of duplicate rows.\n",
    "print(\"Count of unique Rows:\", len(Google_apps_data) - len(duplicate)) # This Count includes Header Field."
   ]
  },
  {
   "cell_type": "markdown",
   "metadata": {},
   "source": [
    "* We dont want to count duplicate apps entry when we analyse the data, \n",
    "  so we need to remove the duplicate entries and keep only one entry per app.\n",
    "* If we examine the rows printed for the Instagram app, the main difference happens on the fourth position of each row, which corresponds to the number of reviews.\n",
    "* Higher the number of reviews, the more recent the data should be. \n",
    "* We have to make sure that we only include unique rows with highest number of reviews.\n",
    "* Therefore we will create a new dataset which contains unique rows."
   ]
  },
  {
   "cell_type": "code",
   "execution_count": 9,
   "metadata": {},
   "outputs": [
    {
     "name": "stdout",
     "output_type": "stream",
     "text": [
      "9659\n"
     ]
    }
   ],
   "source": [
    "reviews_max={}                                   # Reviews_max will have unique app names as key and thier corresponding reviews\n",
    "                                                 # as values.\n",
    "for row in Google_apps_data[1:]:                 # Loop through the google store dataset excluding header\n",
    "    name = row[0]                                # Store name of app in name\n",
    "    n_reviews = float(row[3])          \n",
    "    if name in reviews_max:\n",
    "        if float(row[3]) > reviews_max[name]:    # If name of the name exists in dictionary, make sure to store max review values\n",
    "            reviews_max[name] = float(row[3])             \n",
    "    else:\n",
    "        reviews_max[name] = float(row[3])               # If name odes not exists then add it to dictionary.\n",
    "print(len(reviews_max))                                 # This is same number of apps which remained after duplicate apps were extracted."
   ]
  },
  {
   "cell_type": "markdown",
   "metadata": {},
   "source": [
    "* Using the above code we have extracted a dictionary which we have used extract the unique apps with highest\n",
    "number of reviews.\n",
    "* Next, we have removed the duplicate rows from the orignal dataset and created new dataset which consist of rows with unique app names."
   ]
  },
  {
   "cell_type": "code",
   "execution_count": 10,
   "metadata": {},
   "outputs": [
    {
     "name": "stdout",
     "output_type": "stream",
     "text": [
      "9659\n",
      "['Photo Editor & Candy Camera & Grid & ScrapBook', 'ART_AND_DESIGN', '4.1', '159', '19M', '10,000+', 'Free', '0', 'Everyone', 'Art & Design', 'January 7, 2018', '1.0.0', '4.0.3 and up']\n",
      "\n",
      "\n",
      "['U Launcher Lite – FREE Live Cool Themes, Hide Apps', 'ART_AND_DESIGN', '4.7', '87510', '8.7M', '5,000,000+', 'Free', '0', 'Everyone', 'Art & Design', 'August 1, 2018', '1.2.4', '4.0.3 and up']\n",
      "\n",
      "\n",
      "['Sketch - Draw & Paint', 'ART_AND_DESIGN', '4.5', '215644', '25M', '50,000,000+', 'Free', '0', 'Teen', 'Art & Design', 'June 8, 2018', 'Varies with device', '4.2 and up']\n",
      "\n",
      "\n",
      "['Pixel Draw - Number Art Coloring Book', 'ART_AND_DESIGN', '4.3', '967', '2.8M', '100,000+', 'Free', '0', 'Everyone', 'Art & Design;Creativity', 'June 20, 2018', '1.1', '4.4 and up']\n",
      "\n",
      "\n",
      "['Paper flowers instructions', 'ART_AND_DESIGN', '4.4', '167', '5.6M', '50,000+', 'Free', '0', 'Everyone', 'Art & Design', 'March 26, 2017', '1.0', '2.3 and up']\n",
      "\n",
      "\n",
      "Number of rows: 9659\n",
      "Number of coloumns: 13\n",
      "\n",
      "\n"
     ]
    }
   ],
   "source": [
    "android_clean= []                                  # To store our new cleaned up dataset\n",
    "already_added = []                                 # Which will store the app names\n",
    "\n",
    "for row in Google_apps_data[1:]:\n",
    "    name = row[0]\n",
    "    n_reviews = float(row[3])\n",
    "    if n_reviews == reviews_max[name] and name not in already_added:         # Check if the reviews in the row equals the max\n",
    "        android_clean.append(row)                                            # reviews for the same app stored in the reviwes max dictionary.\n",
    "        already_added.append(name)                                           # If yes, then store that row in the new cleaned list.\n",
    "        \n",
    "print(len(android_clean))\n",
    "explore_data(android_clean,0,5,True)"
   ]
  },
  {
   "cell_type": "markdown",
   "metadata": {},
   "source": [
    "## Removing the Non-English Apps from DataSet"
   ]
  },
  {
   "cell_type": "markdown",
   "metadata": {},
   "source": [
    "* In our analysation, we only want to consider the data which belongs to the apps having language as \"English\".\n",
    "* However, both of our datasets have apps listed in other languages also and since they are not directed towards english speaking audience we have to remove them from dataset.\n",
    "* Keeping this in mind, we have created a function which will return true/false based on whether app has english as language or not."
   ]
  },
  {
   "cell_type": "code",
   "execution_count": 11,
   "metadata": {},
   "outputs": [],
   "source": [
    "def check_language(apps_language):\n",
    "    for ch in apps_language:\n",
    "        if ord(ch) > 127:\n",
    "            return False\n",
    "    return True"
   ]
  },
  {
   "cell_type": "markdown",
   "metadata": {},
   "source": [
    "* Since we know, In python each english character's ascii value ranges from 0 to 127. We can use this information to clean our data.\n",
    "* Function check_language verifies the same, If any character of the passed string has value greater than 127, it returns false else it returns True.\n",
    "* We need to verify our function by running few basic function call tests."
   ]
  },
  {
   "cell_type": "code",
   "execution_count": 12,
   "metadata": {},
   "outputs": [
    {
     "name": "stdout",
     "output_type": "stream",
     "text": [
      "Instagram returns:  True\n",
      "爱奇艺PPS -《欢乐颂2》电视剧热播 returns:  False\n",
      "Docs To Go™ Free Office Suite returns:  False\n",
      "Instachat 😜 Returns:  False\n"
     ]
    }
   ],
   "source": [
    "print(\"Instagram returns: \",check_language('Instagram'))\n",
    "print(\"爱奇艺PPS -《欢乐颂2》电视剧热播 returns: \", check_language('爱奇艺PPS -《欢乐颂2》电视剧热播'))\n",
    "print(\"Docs To Go™ Free Office Suite returns: \", check_language(\"Docs To Go™ Free Office Suite\"))\n",
    "print(\"Instachat 😜 Returns: \", check_language(\"Instachat 😜\"))"
   ]
  },
  {
   "cell_type": "markdown",
   "metadata": {},
   "source": [
    "* we saw that the function couldn't correctly identify certain English app names like 'Docs To Go™ Free Office Suite' and 'Instachat 😜'. This is because emojis and characters like ™ fall outside the ASCII range and have corresponding numbers over 127.\n",
    "* If we're going to use the function we've created, we'll lose useful data since many English apps will be incorrectly labeled as non-English. To minimize the impact of data loss, we'll only remove an app if its name has more than three characters with corresponding numbers falling outside the ASCII range. This means all English apps with up to three emoji or other special characters will still be labeled as English. Our filter function is still not perfect, but it should be fairly effective.\n",
    "\n"
   ]
  },
  {
   "cell_type": "code",
   "execution_count": 13,
   "metadata": {},
   "outputs": [],
   "source": [
    "def check_language_modified(apps_language):\n",
    "    count = 0\n",
    "    for ch in apps_language:\n",
    "        if ord(ch) > 127:\n",
    "            count = count + 1\n",
    "            \n",
    "    if count > 3:\n",
    "        return False\n",
    "    else:\n",
    "        return True"
   ]
  },
  {
   "cell_type": "markdown",
   "metadata": {},
   "source": [
    "* Let's verify our new function with all the test cases."
   ]
  },
  {
   "cell_type": "code",
   "execution_count": 14,
   "metadata": {},
   "outputs": [
    {
     "name": "stdout",
     "output_type": "stream",
     "text": [
      "Instagram returns:  True\n",
      "爱奇艺PPS -《欢乐颂2》电视剧热播 returns:  False\n",
      "Docs To Go™ Free Office Suite returns:  True\n",
      "Instachat 😜 Returns:  True\n"
     ]
    }
   ],
   "source": [
    "print(\"Instagram returns: \",check_language_modified('Instagram'))\n",
    "print(\"爱奇艺PPS -《欢乐颂2》电视剧热播 returns: \", check_language_modified('爱奇艺PPS -《欢乐颂2》电视剧热播'))\n",
    "print(\"Docs To Go™ Free Office Suite returns: \", check_language_modified(\"Docs To Go™ Free Office Suite\"))\n",
    "print(\"Instachat 😜 Returns: \", check_language_modified(\"Instachat 😜\"))"
   ]
  },
  {
   "cell_type": "markdown",
   "metadata": {},
   "source": [
    "* Since our modified version of function cleared all of our test cases, we can use it to clean our datasets.\n",
    "* We have looped through both datasets and filtered out non-english speaking apps in another list.\n",
    "* After that we have explored how many apps are remaining to analyse in both the list."
   ]
  },
  {
   "cell_type": "code",
   "execution_count": 15,
   "metadata": {},
   "outputs": [
    {
     "name": "stdout",
     "output_type": "stream",
     "text": [
      "Remaining Apps in android dataset: 9614\n",
      "Remaining Apps in Apple dataset: 6183\n"
     ]
    }
   ],
   "source": [
    "# Google App store\n",
    "english_android_apps = []\n",
    "for row in android_clean:\n",
    "    if check_language_modified(row[0]):\n",
    "        english_android_apps.append(row)\n",
    "\n",
    "# Apple Store Apps\n",
    "english_apple_apps = []\n",
    "for row in Apple_apps_data[1:]:\n",
    "    if check_language_modified(row[2]):\n",
    "        english_apple_apps.append(row)\n",
    "        \n",
    "# Let's Explore\n",
    "print(\"Remaining Apps in android dataset:\", len(english_android_apps))\n",
    "print(\"Remaining Apps in Apple dataset:\",len(english_apple_apps))\n",
    "    "
   ]
  },
  {
   "cell_type": "markdown",
   "metadata": {},
   "source": [
    "## Isolating the Free Apps"
   ]
  },
  {
   "cell_type": "markdown",
   "metadata": {},
   "source": [
    "* As our company creates only free apps, we dont want to affect our results with the data of paid apps in dataset.\n",
    "* Therefore it is important to filter out the data which belongs to paid apps.\n",
    "* For doing the same, we have looped through both the datasets and then checked thier price status.\n",
    "* If it is free app, we will append it to our result dataset. "
   ]
  },
  {
   "cell_type": "code",
   "execution_count": 16,
   "metadata": {},
   "outputs": [
    {
     "name": "stdout",
     "output_type": "stream",
     "text": [
      "Remaining Apps in android dataset:\n",
      "['Photo Editor & Candy Camera & Grid & ScrapBook', 'ART_AND_DESIGN', '4.1', '159', '19M', '10,000+', 'Free', '0', 'Everyone', 'Art & Design', 'January 7, 2018', '1.0.0', '4.0.3 and up']\n",
      "\n",
      "\n",
      "['U Launcher Lite – FREE Live Cool Themes, Hide Apps', 'ART_AND_DESIGN', '4.7', '87510', '8.7M', '5,000,000+', 'Free', '0', 'Everyone', 'Art & Design', 'August 1, 2018', '1.2.4', '4.0.3 and up']\n",
      "\n",
      "\n",
      "['Sketch - Draw & Paint', 'ART_AND_DESIGN', '4.5', '215644', '25M', '50,000,000+', 'Free', '0', 'Teen', 'Art & Design', 'June 8, 2018', 'Varies with device', '4.2 and up']\n",
      "\n",
      "\n",
      "['Pixel Draw - Number Art Coloring Book', 'ART_AND_DESIGN', '4.3', '967', '2.8M', '100,000+', 'Free', '0', 'Everyone', 'Art & Design;Creativity', 'June 20, 2018', '1.1', '4.4 and up']\n",
      "\n",
      "\n",
      "['Paper flowers instructions', 'ART_AND_DESIGN', '4.4', '167', '5.6M', '50,000+', 'Free', '0', 'Everyone', 'Art & Design', 'March 26, 2017', '1.0', '2.3 and up']\n",
      "\n",
      "\n",
      "Number of rows: 8864\n",
      "Number of coloumns: 13\n",
      "\n",
      "\n",
      "\n",
      "\n",
      "Remaining Apps in Apple dataset:\n",
      "['2', '281796108', 'Evernote - stay organized', '158578688', 'USD', '0', '161065', '26', '4', '3.5', '8.2.2', '4+', 'Productivity', '37', '5', '23', '1']\n",
      "\n",
      "\n",
      "['3', '281940292', 'WeatherBug - Local Weather, Radar, Maps, Alerts', '100524032', 'USD', '0', '188583', '2822', '3.5', '4.5', '5.0.0', '4+', 'Weather', '37', '5', '3', '1']\n",
      "\n",
      "\n",
      "['4', '282614216', 'eBay: Best App to Buy, Sell, Save! Online Shopping', '128512000', 'USD', '0', '262241', '649', '4', '4.5', '5.10.0', '12+', 'Shopping', '37', '5', '9', '1']\n",
      "\n",
      "\n",
      "['5', '282935706', 'Bible', '92774400', 'USD', '0', '985920', '5320', '4.5', '5', '7.5.1', '4+', 'Reference', '37', '5', '45', '1']\n",
      "\n",
      "\n",
      "['7', '283646709', 'PayPal - Send and request money safely', '227795968', 'USD', '0', '119487', '879', '4', '4.5', '6.12.0', '4+', 'Finance', '37', '0', '19', '1']\n",
      "\n",
      "\n",
      "Number of rows: 3222\n",
      "Number of coloumns: 17\n",
      "\n",
      "\n"
     ]
    }
   ],
   "source": [
    "final_android_dataset = []\n",
    "final_apple_dataset = []\n",
    "\n",
    "for row in english_android_apps:\n",
    "    if row[7] == '0':\n",
    "        final_android_dataset.append(row)\n",
    "        \n",
    "for row in english_apple_apps:\n",
    "    if row[5] == \"0\":\n",
    "        final_apple_dataset.append(row)\n",
    "        \n",
    "# Let's Explore\n",
    "print(\"Remaining Apps in android dataset:\")\n",
    "explore_data(final_android_dataset,0,5,True)\n",
    "print(\"\\n\")\n",
    "print(\"Remaining Apps in Apple dataset:\")\n",
    "explore_data(final_apple_dataset,0,5,True)\n"
   ]
  },
  {
   "cell_type": "markdown",
   "metadata": {},
   "source": [
    "* We are left with the 3222 and 8864 dataset, which should be fine for our analysis."
   ]
  },
  {
   "cell_type": "markdown",
   "metadata": {},
   "source": [
    "## Most Common Apps By Genre"
   ]
  },
  {
   "cell_type": "markdown",
   "metadata": {},
   "source": [
    "As we mentioned in the introduction, our aim is to determine the kinds of apps that are likely to attract more users because our revenue is highly influenced by the number of people using our apps.\n",
    "\n",
    "To minimize risks and overhead, our validation strategy for an app idea is comprised of three steps:\n",
    "          1. Build a minimal Android version of the app, and add it to Google Play.\n",
    "          2. If the app has a good response from users, we develop it further.\n",
    "          3. If the app is profitable after six months, we build an iOS version of the app and add it to the App Store.\n",
    "          \n",
    "Because our end goal is to add the app on both Google Play and the App Store, we need to find app profiles that are successful on both markets. For instance, a profile that works well for both markets might be a productivity app that makes use of gamification.\n",
    "\n",
    "Let's begin the analysis by getting a sense of what are the most common genres for each market. For this, we'll need to build frequency tables for the prime_genre column of the App Store data set, and for the Genres and Category columns of the Google Play data set.\n",
    "\n",
    "We'll build two functions we can use to analyze the frequency tables:\n",
    "\n",
    "* One function to generate frequency tables that show percentages\n",
    "* Another function we can use to display the percentages in a descending order"
   ]
  },
  {
   "cell_type": "code",
   "execution_count": 17,
   "metadata": {},
   "outputs": [],
   "source": [
    "def freq_table(dataset,index):\n",
    "    table = {}\n",
    "    \n",
    "    for row in dataset:\n",
    "        column = row[index]\n",
    "        \n",
    "        if column in table:\n",
    "            table[column] += 1\n",
    "        else:\n",
    "            table[column] = 1\n",
    "    \n",
    "    table_percentage = {}\n",
    "    for key in table:\n",
    "        percentage = (table[key] / len(dataset) ) * 100\n",
    "        table_percentage[key] = percentage\n",
    "    \n",
    "    return table_percentage\n",
    "\n",
    "def display_table(dataset,index):\n",
    "    table_p = freq_table(dataset,index)\n",
    "    table_p_list = []\n",
    "    \n",
    "    for key in table_p:\n",
    "        tuple_key_value = (table_p[key],key)\n",
    "        table_p_list.append(tuple_key_value)\n",
    "    \n",
    "    table_Sorted = sorted(table_p_list,reverse = True)\n",
    "    for entry in table_Sorted:\n",
    "        print(entry[1] ,\" : \" , entry[0])"
   ]
  },
  {
   "cell_type": "markdown",
   "metadata": {},
   "source": [
    "* We will use these functions to check the frequency table of columns prime_genre and genre, and category.\n",
    "* Let's start with prime_genre column of the apple store and analyse its results."
   ]
  },
  {
   "cell_type": "code",
   "execution_count": 18,
   "metadata": {},
   "outputs": [
    {
     "name": "stdout",
     "output_type": "stream",
     "text": [
      "Games  :  58.16263190564867\n",
      "Entertainment  :  7.883302296710118\n",
      "Photo & Video  :  4.9658597144630665\n",
      "Education  :  3.662321539416512\n",
      "Social Networking  :  3.2898820608317814\n",
      "Shopping  :  2.60707635009311\n",
      "Utilities  :  2.5139664804469275\n",
      "Sports  :  2.1415270018621975\n",
      "Music  :  2.0484171322160147\n",
      "Health & Fitness  :  2.0173805090006205\n",
      "Productivity  :  1.7380509000620732\n",
      "Lifestyle  :  1.5828677839851024\n",
      "News  :  1.3345747982619491\n",
      "Travel  :  1.2414649286157666\n",
      "Finance  :  1.1173184357541899\n",
      "Weather  :  0.8690254500310366\n",
      "Food & Drink  :  0.8069522036002483\n",
      "Reference  :  0.5586592178770949\n",
      "Business  :  0.5276225946617008\n",
      "Book  :  0.4345127250155183\n",
      "Navigation  :  0.186219739292365\n",
      "Medical  :  0.186219739292365\n",
      "Catalogs  :  0.12414649286157665\n"
     ]
    }
   ],
   "source": [
    "display_table(final_apple_dataset,-5)"
   ]
  },
  {
   "cell_type": "markdown",
   "metadata": {},
   "source": [
    "##### Analysation of Most Common Apps in Apple Store DataSet:\n",
    "* AS displayed, genre Games takes up the more than half of the space in the apple store i.e (58%), followed by Entertainment at 7% and photo & Video 4%. Education and social networking apps percentage is almost same in the market i.e.3%. Shopping, Utilities, sports, music takes up almost 2% of the market share.\n",
    "\n",
    "* The general impression is that most of the apps designed for practical purposes (education, shopping, utilities, productivity, lifestyle) have large share in apple store as compared to the app designed for entertainment such as games, photo and video, social networking, sports, music.\n",
    "\n",
    "* Apart from genre we also have to take in account the number of users actually using the app. As its not certain if games genre have maximum number of apps on apple store, it would also have maximum number of users downloading them and using them.\n",
    "\n",
    "Let's continue analysing the data from goole play store processed by genre."
   ]
  },
  {
   "cell_type": "code",
   "execution_count": 19,
   "metadata": {},
   "outputs": [
    {
     "name": "stdout",
     "output_type": "stream",
     "text": [
      "FAMILY  :  18.907942238267147\n",
      "GAME  :  9.724729241877256\n",
      "TOOLS  :  8.461191335740072\n",
      "BUSINESS  :  4.591606498194946\n",
      "LIFESTYLE  :  3.9034296028880866\n",
      "PRODUCTIVITY  :  3.892148014440433\n",
      "FINANCE  :  3.7003610108303246\n",
      "MEDICAL  :  3.531137184115524\n",
      "SPORTS  :  3.395758122743682\n",
      "PERSONALIZATION  :  3.3167870036101084\n",
      "COMMUNICATION  :  3.2378158844765346\n",
      "HEALTH_AND_FITNESS  :  3.0798736462093865\n",
      "PHOTOGRAPHY  :  2.944494584837545\n",
      "NEWS_AND_MAGAZINES  :  2.7978339350180503\n",
      "SOCIAL  :  2.6624548736462095\n",
      "TRAVEL_AND_LOCAL  :  2.33528880866426\n",
      "SHOPPING  :  2.2450361010830324\n",
      "BOOKS_AND_REFERENCE  :  2.1435018050541514\n",
      "DATING  :  1.861462093862816\n",
      "VIDEO_PLAYERS  :  1.7937725631768955\n",
      "MAPS_AND_NAVIGATION  :  1.3989169675090252\n",
      "FOOD_AND_DRINK  :  1.2409747292418771\n",
      "EDUCATION  :  1.1620036101083033\n",
      "ENTERTAINMENT  :  0.9589350180505415\n",
      "LIBRARIES_AND_DEMO  :  0.9363718411552346\n",
      "AUTO_AND_VEHICLES  :  0.9250902527075812\n",
      "HOUSE_AND_HOME  :  0.8235559566787004\n",
      "WEATHER  :  0.8009927797833934\n",
      "EVENTS  :  0.7107400722021661\n",
      "PARENTING  :  0.6543321299638989\n",
      "ART_AND_DESIGN  :  0.6430505415162455\n",
      "COMICS  :  0.6204873646209386\n",
      "BEAUTY  :  0.5979241877256317\n"
     ]
    }
   ],
   "source": [
    "display_table(final_android_dataset,1) #category"
   ]
  },
  {
   "cell_type": "markdown",
   "metadata": {},
   "source": [
    "#### Analysation of Most Common Apps in Google Store DataSet:\n",
    "* In case of Google store dataset, Family apps constitutes the most amount of precense in app store i.e. 18%. Family apps mostly include apps which are used of the enterrtainment purposes. It is followed by Gaming apps with 9% of the share and then we have tools at 8%, business at 4%. All the productive apps such as productivity, finance, medical and sports stands at 3%.\n",
    "\n",
    "* We have observed a complete different trend in apple store as compared these results. In Google store we have all the productive apps was head than entertainment apps. Here most of the entertainment apps such as shopping, social travle and local, dating have low percentage as compared to the productive apps.\n",
    "\n",
    "* But the Family apps genrally constitutes of games of kids, also all the categories are broad in nature. so to confirm the pattern we can see the results of the genre column of the google store dataset."
   ]
  },
  {
   "cell_type": "code",
   "execution_count": 20,
   "metadata": {},
   "outputs": [
    {
     "name": "stdout",
     "output_type": "stream",
     "text": [
      "Tools  :  8.449909747292418\n",
      "Entertainment  :  6.069494584837545\n",
      "Education  :  5.347472924187725\n",
      "Business  :  4.591606498194946\n",
      "Productivity  :  3.892148014440433\n",
      "Lifestyle  :  3.892148014440433\n",
      "Finance  :  3.7003610108303246\n",
      "Medical  :  3.531137184115524\n",
      "Sports  :  3.463447653429603\n",
      "Personalization  :  3.3167870036101084\n",
      "Communication  :  3.2378158844765346\n",
      "Action  :  3.1024368231046933\n",
      "Health & Fitness  :  3.0798736462093865\n",
      "Photography  :  2.944494584837545\n",
      "News & Magazines  :  2.7978339350180503\n",
      "Social  :  2.6624548736462095\n",
      "Travel & Local  :  2.3240072202166067\n",
      "Shopping  :  2.2450361010830324\n",
      "Books & Reference  :  2.1435018050541514\n",
      "Simulation  :  2.0419675090252705\n",
      "Dating  :  1.861462093862816\n",
      "Arcade  :  1.8501805054151623\n",
      "Video Players & Editors  :  1.7712093862815883\n",
      "Casual  :  1.7599277978339352\n",
      "Maps & Navigation  :  1.3989169675090252\n",
      "Food & Drink  :  1.2409747292418771\n",
      "Puzzle  :  1.128158844765343\n",
      "Racing  :  0.9927797833935018\n",
      "Role Playing  :  0.9363718411552346\n",
      "Libraries & Demo  :  0.9363718411552346\n",
      "Auto & Vehicles  :  0.9250902527075812\n",
      "Strategy  :  0.9138086642599278\n",
      "House & Home  :  0.8235559566787004\n",
      "Weather  :  0.8009927797833934\n",
      "Events  :  0.7107400722021661\n",
      "Adventure  :  0.6768953068592057\n",
      "Comics  :  0.6092057761732852\n",
      "Beauty  :  0.5979241877256317\n",
      "Art & Design  :  0.5979241877256317\n",
      "Parenting  :  0.4963898916967509\n",
      "Card  :  0.45126353790613716\n",
      "Casino  :  0.42870036101083037\n",
      "Trivia  :  0.41741877256317694\n",
      "Educational;Education  :  0.39485559566787\n",
      "Board  :  0.3835740072202166\n",
      "Educational  :  0.3722924187725632\n",
      "Education;Education  :  0.33844765342960287\n",
      "Word  :  0.2594765342960289\n",
      "Casual;Pretend Play  :  0.236913357400722\n",
      "Music  :  0.2030685920577617\n",
      "Racing;Action & Adventure  :  0.16922382671480143\n",
      "Puzzle;Brain Games  :  0.16922382671480143\n",
      "Entertainment;Music & Video  :  0.16922382671480143\n",
      "Casual;Brain Games  :  0.13537906137184114\n",
      "Casual;Action & Adventure  :  0.13537906137184114\n",
      "Arcade;Action & Adventure  :  0.12409747292418773\n",
      "Action;Action & Adventure  :  0.10153429602888085\n",
      "Educational;Pretend Play  :  0.09025270758122744\n",
      "Simulation;Action & Adventure  :  0.078971119133574\n",
      "Parenting;Education  :  0.078971119133574\n",
      "Entertainment;Brain Games  :  0.078971119133574\n",
      "Board;Brain Games  :  0.078971119133574\n",
      "Parenting;Music & Video  :  0.06768953068592057\n",
      "Educational;Brain Games  :  0.06768953068592057\n",
      "Casual;Creativity  :  0.06768953068592057\n",
      "Art & Design;Creativity  :  0.06768953068592057\n",
      "Education;Pretend Play  :  0.056407942238267145\n",
      "Role Playing;Pretend Play  :  0.04512635379061372\n",
      "Education;Creativity  :  0.04512635379061372\n",
      "Role Playing;Action & Adventure  :  0.033844765342960284\n",
      "Puzzle;Action & Adventure  :  0.033844765342960284\n",
      "Entertainment;Creativity  :  0.033844765342960284\n",
      "Entertainment;Action & Adventure  :  0.033844765342960284\n",
      "Educational;Creativity  :  0.033844765342960284\n",
      "Educational;Action & Adventure  :  0.033844765342960284\n",
      "Education;Music & Video  :  0.033844765342960284\n",
      "Education;Brain Games  :  0.033844765342960284\n",
      "Education;Action & Adventure  :  0.033844765342960284\n",
      "Adventure;Action & Adventure  :  0.033844765342960284\n",
      "Video Players & Editors;Music & Video  :  0.02256317689530686\n",
      "Sports;Action & Adventure  :  0.02256317689530686\n",
      "Simulation;Pretend Play  :  0.02256317689530686\n",
      "Puzzle;Creativity  :  0.02256317689530686\n",
      "Music;Music & Video  :  0.02256317689530686\n",
      "Entertainment;Pretend Play  :  0.02256317689530686\n",
      "Casual;Education  :  0.02256317689530686\n",
      "Board;Action & Adventure  :  0.02256317689530686\n",
      "Video Players & Editors;Creativity  :  0.01128158844765343\n",
      "Trivia;Education  :  0.01128158844765343\n",
      "Travel & Local;Action & Adventure  :  0.01128158844765343\n",
      "Tools;Education  :  0.01128158844765343\n",
      "Strategy;Education  :  0.01128158844765343\n",
      "Strategy;Creativity  :  0.01128158844765343\n",
      "Strategy;Action & Adventure  :  0.01128158844765343\n",
      "Simulation;Education  :  0.01128158844765343\n",
      "Role Playing;Brain Games  :  0.01128158844765343\n",
      "Racing;Pretend Play  :  0.01128158844765343\n",
      "Puzzle;Education  :  0.01128158844765343\n",
      "Parenting;Brain Games  :  0.01128158844765343\n",
      "Music & Audio;Music & Video  :  0.01128158844765343\n",
      "Lifestyle;Pretend Play  :  0.01128158844765343\n",
      "Lifestyle;Education  :  0.01128158844765343\n",
      "Health & Fitness;Education  :  0.01128158844765343\n",
      "Health & Fitness;Action & Adventure  :  0.01128158844765343\n",
      "Entertainment;Education  :  0.01128158844765343\n",
      "Communication;Creativity  :  0.01128158844765343\n",
      "Comics;Creativity  :  0.01128158844765343\n",
      "Casual;Music & Video  :  0.01128158844765343\n",
      "Card;Action & Adventure  :  0.01128158844765343\n",
      "Books & Reference;Education  :  0.01128158844765343\n",
      "Art & Design;Pretend Play  :  0.01128158844765343\n",
      "Art & Design;Action & Adventure  :  0.01128158844765343\n",
      "Arcade;Pretend Play  :  0.01128158844765343\n",
      "Adventure;Education  :  0.01128158844765343\n"
     ]
    }
   ],
   "source": [
    "display_table(final_android_dataset,-4)"
   ]
  },
  {
   "cell_type": "markdown",
   "metadata": {},
   "source": [
    "* As we can observe, the pattern shown in category column is same as gerne column. \n",
    "* Only difference between both the columns is gerne has wide range as compared to the category columns and as we are working for the broader perspective we will consider the category column forwarding going.\n",
    "\n",
    "The frequency tables we analyzed on the previous screen showed us that the App Store is dominated by apps designed for fun, while Google Play shows a more balanced landscape of both practical and fun apps. Now, we'd like to get an idea about the kind of apps with the most users."
   ]
  },
  {
   "cell_type": "markdown",
   "metadata": {},
   "source": [
    "### Finding the most popular Genres\n",
    "\n",
    "The way to find out what genres are the most popular (have the most users) is to calculate the average number of installs for each app genre. For the Google Play data set, we can find this information in the Installs column, but this information is missing for the App Store data set. As a workaround, we'll take the total number of user ratings as a proxy, which we can find in the rating_count_tot app.\n",
    "\n",
    "#### Part One: Apple Store DataSet\n",
    "\n",
    "* Let's start by generating a frequency table for the prime_genre column to get the unique app genres (below, we'll need to loop over the unique genres). we will use the freq_table() function."
   ]
  },
  {
   "cell_type": "code",
   "execution_count": 21,
   "metadata": {},
   "outputs": [
    {
     "name": "stdout",
     "output_type": "stream",
     "text": [
      "{'Productivity': 1.7380509000620732, 'Weather': 0.8690254500310366, 'Shopping': 2.60707635009311, 'Reference': 0.5586592178770949, 'Finance': 1.1173184357541899, 'Music': 2.0484171322160147, 'Utilities': 2.5139664804469275, 'Travel': 1.2414649286157666, 'Social Networking': 3.2898820608317814, 'Sports': 2.1415270018621975, 'Health & Fitness': 2.0173805090006205, 'Games': 58.16263190564867, 'Food & Drink': 0.8069522036002483, 'News': 1.3345747982619491, 'Book': 0.4345127250155183, 'Photo & Video': 4.9658597144630665, 'Entertainment': 7.883302296710118, 'Business': 0.5276225946617008, 'Lifestyle': 1.5828677839851024, 'Education': 3.662321539416512, 'Navigation': 0.186219739292365, 'Medical': 0.186219739292365, 'Catalogs': 0.12414649286157665}\n"
     ]
    }
   ],
   "source": [
    "apple_store_genre_freq = freq_table(final_apple_dataset,-5)\n",
    "print(apple_store_genre_freq)"
   ]
  },
  {
   "cell_type": "code",
   "execution_count": null,
   "metadata": {},
   "outputs": [],
   "source": []
  },
  {
   "cell_type": "code",
   "execution_count": 25,
   "metadata": {},
   "outputs": [
    {
     "name": "stdout",
     "output_type": "stream",
     "text": [
      "Navigation  :  86090.33333333333\n",
      "Reference  :  74942.11111111111\n",
      "Social Networking  :  71548.34905660378\n",
      "Music  :  57326.530303030304\n",
      "Weather  :  52279.892857142855\n",
      "Book  :  39758.5\n",
      "Food & Drink  :  33333.92307692308\n",
      "Finance  :  31467.944444444445\n",
      "Photo & Video  :  28441.54375\n",
      "Travel  :  28243.8\n",
      "Shopping  :  26919.690476190477\n",
      "Health & Fitness  :  23298.015384615384\n",
      "Sports  :  23008.898550724636\n",
      "Games  :  22788.6696905016\n",
      "News  :  21248.023255813954\n",
      "Productivity  :  21028.410714285714\n",
      "Utilities  :  18684.456790123455\n",
      "Lifestyle  :  16485.764705882353\n",
      "Entertainment  :  14029.830708661417\n",
      "Business  :  7491.117647058823\n",
      "Education  :  7003.983050847458\n",
      "Catalogs  :  4004.0\n",
      "Medical  :  612.0\n"
     ]
    }
   ],
   "source": [
    "avg_user_rating_list = []\n",
    "for genre in apple_store_genre_freq:\n",
    "    total = 0\n",
    "    len_genre = 0\n",
    "    for row in final_apple_dataset:\n",
    "        genre_app = row[-5]\n",
    "        if genre_app == genre:\n",
    "            user_ratings = float(row[6])\n",
    "            total = total + user_ratings\n",
    "            len_genre += 1\n",
    "    \n",
    "    avg_user_rating = total / len_genre\n",
    "    avg_usr_rating_tuple = (avg_user_rating,genre)\n",
    "    avg_user_rating_list.append(avg_usr_rating_tuple)\n",
    "    \n",
    "sorted_list = sorted(avg_user_rating_list,reverse= True)\n",
    "for row in sorted_list:\n",
    "    print(row[1],\" : \",row[0])"
   ]
  },
  {
   "cell_type": "markdown",
   "metadata": {},
   "source": [
    "* We have apps such as navigation, social Networking, music and weather apps on the top of of list. \n",
    "* If we explore navigation apps, we can see maximum number of user reviews are based upon the Google naigation app and Waze. If we exculde these apps its user review ratio will drop significantly."
   ]
  },
  {
   "cell_type": "code",
   "execution_count": 27,
   "metadata": {},
   "outputs": [
    {
     "name": "stdout",
     "output_type": "stream",
     "text": [
      "Waze - GPS Navigation, Maps & Real-time Traffic  :  345046\n",
      "Geocaching®  :  12811\n",
      "ImmobilienScout24: Real Estate Search in Germany  :  187\n",
      "Railway Route Search  :  5\n",
      "CoPilot GPS – Car Navigation & Offline Maps  :  3582\n",
      "Google Maps - Navigation & Transit  :  154911\n"
     ]
    }
   ],
   "source": [
    "for app in final_apple_dataset:\n",
    "    if app[-5] == \"Navigation\":\n",
    "        print(app[2],\" : \", app[6])"
   ]
  },
  {
   "cell_type": "markdown",
   "metadata": {},
   "source": [
    "* Similar is the case of social networking and music apps. Most of the share of these categories comes from the popular known apps such as facebook, Linkedin, skype, instagram, watsapp, spotify, youtube pandora etc."
   ]
  },
  {
   "cell_type": "code",
   "execution_count": 29,
   "metadata": {},
   "outputs": [
    {
     "name": "stdout",
     "output_type": "stream",
     "text": [
      "Pandora - Music & Radio  :  1126879\n",
      "Shazam - Discover music, artists, videos & lyrics  :  402925\n",
      "iHeartRadio – Free Music & Radio Stations  :  293228\n",
      "Deezer - Listen to your Favorite Music & Playlists  :  4677\n",
      "Sonos Controller  :  48905\n",
      "NRJ Radio  :  38\n",
      "radio.de - Der Radioplayer  :  64\n",
      "Spotify Music  :  878563\n",
      "SoundCloud - Music & Audio  :  135744\n",
      "Sing Karaoke Songs Unlimited with StarMaker  :  26227\n",
      "SoundHound Song Search & Music Player  :  82602\n",
      "Ringtones for iPhone & Ringtone Maker  :  25403\n",
      "Coach Guitar - Lessons & Easy Tabs For Beginners  :  2416\n",
      "TuneIn Radio - MLB NBA Audiobooks Podcasts Music  :  110420\n",
      "Magic Piano by Smule  :  131695\n",
      "QQ音乐HD  :  224\n",
      "The Singing Machine Mobile Karaoke App  :  130\n",
      "Bandsintown Concerts  :  30845\n",
      "PetitLyrics  :  0\n",
      "edjing Mix:DJ turntable to remix and scratch music  :  13580\n",
      "Smule Sing!  :  119316\n",
      "Amazon Music  :  106235\n",
      "AutoRap by Smule  :  18202\n",
      "My Mixtapez Music  :  26286\n",
      "Certified Mixtapes - Hip Hop Albums & Mixtapes  :  9975\n",
      "Karaoke - Sing Karaoke, Unlimited Songs!  :  28606\n",
      "Napster - Top Music & Radio  :  14268\n",
      "Musi - Unlimited Music For YouTube  :  25193\n",
      "UE BOOM  :  612\n",
      "Spinrilla - Mixtapes For Free  :  15053\n",
      "Google Play Music  :  10118\n",
      "Piano - Play Keyboard Music Games with Magic Tiles  :  1636\n",
      "Bose SoundTouch  :  3687\n",
      "DatPiff  :  2815\n",
      "Sounds app - Music And Friends  :  5126\n",
      "Smart Music: Streaming Videos and Radio  :  17\n",
      "Free Piano app by Yokee  :  13016\n",
      "Simple Radio - Live AM & FM Radio Stations  :  4787\n",
      "Trebel Music - Unlimited Music Downloader  :  2570\n",
      "TIDAL  :  7398\n",
      "Acapella from PicPlayPost  :  2487\n",
      "Medly - Music Maker  :  933\n",
      "Amazon Alexa  :  3018\n",
      "Music Freedom - Unlimited Free MP3 Music Streaming  :  1246\n",
      "PlayGround • Music At Your Fingertips  :  150\n",
      "Musical Video Maker - Create Music clips lip sync  :  320\n",
      "Free Music Play - Mp3 Streamer & Player  :  2496\n",
      "LiveMixtapes  :  555\n",
      "AmpMe - A Portable Social Party Music Speaker  :  1047\n",
      "NOISE  :  355\n",
      "YouTube Music  :  7109\n",
      "Ringtones for iPhone with Ringtone Maker  :  4013\n",
      "Music Memos  :  909\n",
      "Musicloud - MP3 and FLAC Music Player for Cloud Platforms.  :  2211\n",
      "Bose Connect  :  915\n",
      "Cloud Music Player - Downloader & Playlist Manager  :  319\n",
      "Remixlive - Remix loops with pads  :  288\n",
      "Free Music -  Player & Streamer  for Dropbox, OneDrive & Google Drive  :  46\n",
      "Boom: Best Equalizer & Magical Surround Sound  :  1375\n",
      "MP3 Music Player & Streamer for Clouds  :  329\n",
      "Nicki Minaj: The Empire  :  5196\n",
      "SongFlip - Free Music Streamer  :  5004\n",
      "Blocs Wave - Make & Record Music  :  158\n",
      "Music and Chill  :  135\n",
      "Free Music - MP3 Streamer & Playlist Manager Pro  :  13443\n",
      "BOSS Tuner  :  13\n"
     ]
    }
   ],
   "source": [
    "for app in final_apple_dataset:\n",
    "    if app[-5] == \"Music\":\n",
    "        print(app[2],\" : \", app[6])"
   ]
  },
  {
   "cell_type": "code",
   "execution_count": 28,
   "metadata": {},
   "outputs": [
    {
     "name": "stdout",
     "output_type": "stream",
     "text": [
      "Facebook  :  2974676\n",
      "LinkedIn  :  71856\n",
      "Skype for iPhone  :  373519\n",
      "Tumblr  :  334293\n",
      "Match™ - #1 Dating App.  :  60659\n",
      "WhatsApp Messenger  :  287589\n",
      "TextNow - Unlimited Text + Calls  :  164963\n",
      "Grindr - Gay and same sex guys chat, meet and date  :  23201\n",
      "imo video calls and chat  :  18841\n",
      "Ameba  :  269\n",
      "Weibo  :  7265\n",
      "Badoo - Meet New People, Chat, Socialize.  :  34428\n",
      "Kik  :  260965\n",
      "Qzone  :  1649\n",
      "Fake-A-Location Free ™  :  354\n",
      "Tango - Free Video Call, Voice and Chat  :  75412\n",
      "MeetMe - Chat and Meet New People  :  97072\n",
      "SimSimi  :  23530\n",
      "Viber Messenger – Text & Call  :  164249\n",
      "Find My Family, Friends & iPhone - Life360 Locator  :  43877\n",
      "Weibo HD  :  16772\n",
      "POF - Best Dating App for Conversations  :  52642\n",
      "GroupMe  :  28260\n",
      "Lobi  :  36\n",
      "WeChat  :  34584\n",
      "ooVoo – Free Video Call, Text and Voice  :  177501\n",
      "Pinterest  :  1061624\n",
      "知乎  :  397\n",
      "Qzone HD  :  458\n",
      "Skype for iPad  :  60163\n",
      "LINE  :  11437\n",
      "QQ  :  9109\n",
      "LOVOO - Dating Chat  :  1985\n",
      "QQ HD  :  5058\n",
      "Messenger  :  351466\n",
      "eHarmony™ Dating App - Meet Singles  :  11124\n",
      "YouNow: Live Stream Video Chat  :  12079\n",
      "Cougar Dating & Life Style App for Mature Women  :  213\n",
      "Battlefield™ Companion  :  689\n",
      "Whisper - Share, Express, Meet  :  39819\n",
      "We Heart It - Fashion, wallpapers, quotes, tattoos  :  90414\n",
      "Followers - Social Analytics For Instagram  :  112778\n",
      "InsTrack for Instagram - Analytics Plus More  :  85535\n",
      "Followers + for Instagram - Follower Analytics  :  28633\n",
      "Timehop  :  49510\n",
      "Repost for Instagram  :  15185\n",
      "LINE PLAY - Your Avatar World  :  34677\n",
      "Nextdoor  :  14402\n",
      "Hangouts  :  36404\n",
      "FollowMeter for Instagram - Followers Tracking  :  11976\n",
      "Telegram Messenger  :  7573\n",
      "Chatous - Chat with new people  :  1609\n",
      "QQ International  :  274\n",
      "FireChat  :  1037\n",
      "Jodel  :  1193\n",
      "Wishbone - Compare Anything  :  20649\n",
      "Zenly - Locate your friends in realtime  :  427\n",
      "Tantan  :  235\n",
      "Flinch - Video Chat Staring Contest  :  2134\n",
      "botman - Real time video chat  :  7\n",
      "豆瓣  :  407\n",
      "Marco Polo Video Walkie Talkie  :  27662\n",
      "After School - Funny Anonymous School News  :  18482\n",
      "Highrise - Your Avatar Community  :  2011\n",
      "Quick Reposter - Repost, Regram and Reshare Photos  :  17694\n",
      "Kiwi - Q&A  :  1538\n",
      "Periscope - Live Video Streaming Around the World  :  6062\n",
      "Inke—Broadcast an amazing life  :  147\n",
      "Discord - Chat for Gamers  :  9152\n",
      "Candid - Speak Your Mind Freely  :  398\n",
      "Down To Lunch  :  2535\n",
      "SOMA Messenger  :  3232\n",
      "Rawr Messenger - Dab your chat  :  180\n",
      "Popcorn Buzz - Free Group Calls  :  281\n",
      "Chain: Collaborate On MyVideo Story/Group Video  :  35\n",
      "BestieBox  :  0\n",
      "Selfeo  :  366\n",
      "Followers Analysis Tool For Instagram App Free  :  4253\n",
      "Hey! VINA - Where Women Meet New Friends  :  719\n",
      "PlayStation®Messages  :  1918\n",
      "WhenToPost: Best Time to Post Photos for Instagram  :  158\n",
      "MATCH ON LINE chat  :  0\n",
      "Fiesta by Tango - Chat & Meet New People  :  885\n",
      "Houseparty - Group Video Chat  :  3991\n",
      "All Devices for WhatsApp - Messenger for iPad  :  682\n",
      "Peach — share vividly  :  727\n",
      "bit-tube - Live Stream Video Chat  :  0\n",
      "Miitomo  :  23965\n",
      "SoundCloud Pulse: for creators  :  240\n",
      "IAmNaughty – Dating App to Meet New People Online  :  463\n",
      "League of Legends Friends  :  420\n",
      "GhostCodes - a discovery app for Snapchat  :  1313\n",
      "live.ly - live video streaming  :  4145\n",
      "Live.me – Live Video Chat & Make Friends Nearby  :  14724\n",
      "BOO! - Video chat camera with filters & stickers  :  1805\n",
      "Google Allo — smart messaging  :  862\n",
      "Google Duo - simple video calling  :  1033\n",
      "Chat for Whatsapp - iPad Version  :  5060\n",
      "Chat for Pokemon Go - GoChat  :  500\n",
      "niconico ch  :  0\n",
      "Followers Analytics for Instagram - InstaReport  :  13914\n",
      "Monkey  :  3060\n",
      "LINE BLOG  :  0\n",
      "Mustknow - anonymous video Q&A  :  53\n",
      "CTFxCmoji  :  39\n",
      "Fam — Group video calling for iMessage  :  279\n"
     ]
    }
   ],
   "source": [
    "for app in final_apple_dataset:\n",
    "    if app[-5] == \"Social Networking\":\n",
    "        print(app[2],\" : \",app[6])"
   ]
  },
  {
   "cell_type": "markdown",
   "metadata": {},
   "source": [
    "Our aim is find popular gerne, but navigation, social networking and music apps might seem more popluar then they really are.The avergae number of rating seems to be skewed by some popular apps which have hundereds of thousands of ratings, while the other apps may struggle to get past 10,000 threshold\n",
    "\n",
    "Reference apps have avergae user rating of 74942, but its acually bible and dictionary.com which skew up the average ratings."
   ]
  },
  {
   "cell_type": "code",
   "execution_count": 30,
   "metadata": {},
   "outputs": [
    {
     "name": "stdout",
     "output_type": "stream",
     "text": [
      "Bible  :  985920\n",
      "Dictionary.com Dictionary & Thesaurus  :  200047\n",
      "Dictionary.com Dictionary & Thesaurus for iPad  :  54175\n",
      "Muslim Pro: Ramadan 2017 Prayer Times, Azan, Quran  :  18418\n",
      "Merriam-Webster Dictionary  :  16849\n",
      "Google Translate  :  26786\n",
      "Night Sky  :  12122\n",
      "WWDC  :  762\n",
      "Jishokun-Japanese English Dictionary & Translator  :  0\n",
      "教えて!goo  :  0\n",
      "VPN Express  :  14\n",
      "New Furniture Mods - Pocket Wiki & Game Tools for Minecraft PC Edition  :  17588\n",
      "LUCKY BLOCK MOD ™ for Minecraft PC Edition - The Best Pocket Wiki & Mods Installer Tools  :  4693\n",
      "Guides for Pokémon GO - Pokemon GO News and Cheats  :  826\n",
      "Horror Maps for Minecraft PE - Download The Scariest Maps for Minecraft Pocket Edition (MCPE) Free  :  718\n",
      "City Maps for Minecraft PE - The Best Maps for Minecraft Pocket Edition (MCPE)  :  8535\n",
      "GUNS MODS for Minecraft PC Edition - Mods Tools  :  1497\n",
      "Real Bike Traffic Rider Virtual Reality Glasses  :  8\n"
     ]
    }
   ],
   "source": [
    "for app in final_apple_dataset:\n",
    "    if app[-5] == \"Reference\":\n",
    "        print(app[2], \" : \",app[6])"
   ]
  },
  {
   "cell_type": "markdown",
   "metadata": {},
   "source": [
    "However, this niche seems to show some potential. One thing we could do is take another popular book and turn it into an app where we could add different features besides the raw version of the book. This might include daily quotes from the book, an audio version of the book, quizzes about the book, etc. On top of that, we could also embed a dictionary within the app, so users don't need to exit our app to look up words in an external app.\n",
    "\n",
    "This idea seems to fit well with the fact that the App Store is dominated by for-fun apps. This suggests the market might be a bit saturated with for-fun apps, which means a practical app might have more of a chance to stand out among the huge number of apps on the App Store.\n",
    "\n",
    "Other genres that seem popular include weather, book, food and drink, or finance. The book genre seem to overlap a bit with the app idea we described above, but the other genres don't seem too interesting to us:\n",
    "\n",
    "* Weather apps — people generally don't spend too much time in-app, and the chances of making profit from in-app                  adds are low. Also, getting reliable live weather data may require us to connect our apps to non-free APIs.\n",
    "* Food and drink — examples here include Starbucks, Dunkin' Donuts, McDonald's, etc. So making a popular food and                drink app requires actual cooking and a delivery service, which is outside the scope of our company.\n",
    "* Finance apps — these apps involve banking, paying bills, money transfer, etc. Building a finance app requires                  domain knowledge, and we don't want to hire a finance expert just to build an app.\n",
    "\n",
    "Now let's analyze the Google Play market a bit."
   ]
  },
  {
   "cell_type": "markdown",
   "metadata": {},
   "source": [
    "### Most Popular Apps by Genre on Google Play Store"
   ]
  },
  {
   "cell_type": "markdown",
   "metadata": {},
   "source": [
    "We have data about the number of installs for the Google Play market, so we should be able to get a clearer picture about genre popularity. However, the install numbers don't seem precise enough — we can see that most values are open-ended (100+, 1,000+, 5,000+, etc.)"
   ]
  },
  {
   "cell_type": "code",
   "execution_count": 32,
   "metadata": {},
   "outputs": [
    {
     "name": "stdout",
     "output_type": "stream",
     "text": [
      "1,000,000+  :  15.726534296028879\n",
      "100,000+  :  11.552346570397113\n",
      "10,000,000+  :  10.548285198555957\n",
      "10,000+  :  10.198555956678701\n",
      "1,000+  :  8.393501805054152\n",
      "100+  :  6.915613718411552\n",
      "5,000,000+  :  6.825361010830325\n",
      "500,000+  :  5.561823104693141\n",
      "50,000+  :  4.7721119133574\n",
      "5,000+  :  4.512635379061372\n",
      "10+  :  3.5424187725631766\n",
      "500+  :  3.2490974729241873\n",
      "50,000,000+  :  2.3014440433213\n",
      "100,000,000+  :  2.1322202166064983\n",
      "50+  :  1.917870036101083\n",
      "5+  :  0.78971119133574\n",
      "1+  :  0.5076714801444043\n",
      "500,000,000+  :  0.2707581227436823\n",
      "1,000,000,000+  :  0.22563176895306858\n",
      "0+  :  0.04512635379061372\n",
      "0  :  0.01128158844765343\n"
     ]
    }
   ],
   "source": [
    "display_table(final_android_dataset,5) # The installs column"
   ]
  },
  {
   "cell_type": "markdown",
   "metadata": {},
   "source": [
    "For instance, we don't know whether an app with 100,000+ installs has 100,000 installs, 200,000, or 350,000. However, we don't need very precise data for our purposes — we only want to find out which app genres attract the most users, and we don't need perfect precision with respect to the number of users.\n",
    "\n",
    "We're going to leave the numbers as they are, which means that we'll consider that an app with 100,000+ installs has 100,000 installs, and an app with 1,000,000+ installs has 1,000,000 installs, and so on. To perform computations, however, we'll need to convert each install number from string to float. This means we need to remove the commas and the plus characters, otherwise the conversion will fail and raise an error.\n",
    "\n",
    "Let's start by generating a frequency table for the Category column of the Google Play data set to get the unique app genres (below, we'll need to loop over the unique genres). we can use the freq_table() function"
   ]
  },
  {
   "cell_type": "code",
   "execution_count": 34,
   "metadata": {},
   "outputs": [
    {
     "name": "stdout",
     "output_type": "stream",
     "text": [
      "{'ART_AND_DESIGN': 0.6430505415162455, 'AUTO_AND_VEHICLES': 0.9250902527075812, 'BEAUTY': 0.5979241877256317, 'BOOKS_AND_REFERENCE': 2.1435018050541514, 'BUSINESS': 4.591606498194946, 'COMICS': 0.6204873646209386, 'COMMUNICATION': 3.2378158844765346, 'DATING': 1.861462093862816, 'EDUCATION': 1.1620036101083033, 'ENTERTAINMENT': 0.9589350180505415, 'EVENTS': 0.7107400722021661, 'FINANCE': 3.7003610108303246, 'FOOD_AND_DRINK': 1.2409747292418771, 'HEALTH_AND_FITNESS': 3.0798736462093865, 'HOUSE_AND_HOME': 0.8235559566787004, 'LIBRARIES_AND_DEMO': 0.9363718411552346, 'LIFESTYLE': 3.9034296028880866, 'GAME': 9.724729241877256, 'FAMILY': 18.907942238267147, 'MEDICAL': 3.531137184115524, 'SOCIAL': 2.6624548736462095, 'SHOPPING': 2.2450361010830324, 'PHOTOGRAPHY': 2.944494584837545, 'SPORTS': 3.395758122743682, 'TRAVEL_AND_LOCAL': 2.33528880866426, 'TOOLS': 8.461191335740072, 'PERSONALIZATION': 3.3167870036101084, 'PRODUCTIVITY': 3.892148014440433, 'PARENTING': 0.6543321299638989, 'WEATHER': 0.8009927797833934, 'VIDEO_PLAYERS': 1.7937725631768955, 'NEWS_AND_MAGAZINES': 2.7978339350180503, 'MAPS_AND_NAVIGATION': 1.3989169675090252}\n"
     ]
    }
   ],
   "source": [
    "google_app_freq_table = freq_table(final_android_dataset,1) #category\n",
    "print(google_app_freq_table)"
   ]
  },
  {
   "cell_type": "code",
   "execution_count": 36,
   "metadata": {},
   "outputs": [
    {
     "name": "stdout",
     "output_type": "stream",
     "text": [
      "COMMUNICATION  :  38456119.167247385\n",
      "VIDEO_PLAYERS  :  24727872.452830188\n",
      "SOCIAL  :  23253652.127118643\n",
      "PHOTOGRAPHY  :  17840110.40229885\n",
      "PRODUCTIVITY  :  16787331.344927534\n",
      "GAME  :  15588015.603248259\n",
      "TRAVEL_AND_LOCAL  :  13984077.710144928\n",
      "ENTERTAINMENT  :  11640705.88235294\n",
      "TOOLS  :  10801391.298666667\n",
      "NEWS_AND_MAGAZINES  :  9549178.467741935\n",
      "BOOKS_AND_REFERENCE  :  8767811.894736841\n",
      "SHOPPING  :  7036877.311557789\n",
      "PERSONALIZATION  :  5201482.6122448975\n",
      "WEATHER  :  5074486.197183099\n",
      "HEALTH_AND_FITNESS  :  4188821.9853479853\n",
      "MAPS_AND_NAVIGATION  :  4056941.7741935486\n",
      "FAMILY  :  3695641.8198090694\n",
      "SPORTS  :  3638640.1428571427\n",
      "ART_AND_DESIGN  :  1986335.0877192982\n",
      "FOOD_AND_DRINK  :  1924897.7363636363\n",
      "EDUCATION  :  1833495.145631068\n",
      "BUSINESS  :  1712290.1474201474\n",
      "LIFESTYLE  :  1437816.2687861272\n",
      "FINANCE  :  1387692.475609756\n",
      "HOUSE_AND_HOME  :  1331540.5616438356\n",
      "DATING  :  854028.8303030303\n",
      "COMICS  :  817657.2727272727\n",
      "AUTO_AND_VEHICLES  :  647317.8170731707\n",
      "LIBRARIES_AND_DEMO  :  638503.734939759\n",
      "PARENTING  :  542603.6206896552\n",
      "BEAUTY  :  513151.88679245283\n",
      "EVENTS  :  253542.22222222222\n",
      "MEDICAL  :  120550.61980830671\n"
     ]
    }
   ],
   "source": [
    "avg_user_rating_list = []\n",
    "for genre in google_app_freq_table:\n",
    "    total = 0\n",
    "    len_genre = 0\n",
    "    for row in final_android_dataset:\n",
    "        genre_app = row[1]\n",
    "        if genre_app == genre:\n",
    "            n_user_rating = row[5]\n",
    "            n_user_rating = n_user_rating.replace('+','')\n",
    "            n_user_rating = n_user_rating.replace(',','')\n",
    "            user_ratings = float(n_user_rating)\n",
    "            total = total + user_ratings\n",
    "            len_genre += 1\n",
    "    \n",
    "    avg_user_rating = total / len_genre\n",
    "    avg_usr_rating_tuple = (avg_user_rating,genre)\n",
    "    avg_user_rating_list.append(avg_usr_rating_tuple)\n",
    "    \n",
    "sorted_list = sorted(avg_user_rating_list,reverse= True)\n",
    "for row in sorted_list:\n",
    "    print(row[1],\" : \",row[0])"
   ]
  },
  {
   "cell_type": "markdown",
   "metadata": {},
   "source": [
    "As we can see, communication apps are have the most user reviews, but again some popular apps line facebook, instagram, watsapp who have hunderd of thousands of users review, have skewed the overall average of the communication apps."
   ]
  },
  {
   "cell_type": "code",
   "execution_count": 40,
   "metadata": {},
   "outputs": [
    {
     "name": "stdout",
     "output_type": "stream",
     "text": [
      "WhatsApp Messenger  :  1,000,000,000+\n",
      "Messenger for SMS  :  10,000,000+\n",
      "My Tele2  :  5,000,000+\n",
      "imo beta free calls and text  :  100,000,000+\n",
      "Contacts  :  50,000,000+\n",
      "Call Free – Free Call  :  5,000,000+\n",
      "Web Browser & Explorer  :  5,000,000+\n",
      "Browser 4G  :  10,000,000+\n",
      "MegaFon Dashboard  :  10,000,000+\n",
      "ZenUI Dialer & Contacts  :  10,000,000+\n",
      "Cricket Visual Voicemail  :  10,000,000+\n",
      "TracFone My Account  :  1,000,000+\n",
      "Xperia Link™  :  10,000,000+\n",
      "TouchPal Keyboard - Fun Emoji & Android Keyboard  :  10,000,000+\n",
      "Skype Lite - Free Video Call & Chat  :  5,000,000+\n",
      "My magenta  :  1,000,000+\n",
      "Android Messages  :  100,000,000+\n",
      "Google Duo - High Quality Video Calls  :  500,000,000+\n",
      "Seznam.cz  :  1,000,000+\n",
      "Antillean Gold Telegram (original version)  :  100,000+\n",
      "AT&T Visual Voicemail  :  10,000,000+\n",
      "GMX Mail  :  10,000,000+\n",
      "Omlet Chat  :  10,000,000+\n",
      "My Vodacom SA  :  5,000,000+\n",
      "Microsoft Edge  :  5,000,000+\n",
      "Messenger – Text and Video Chat for Free  :  1,000,000,000+\n",
      "imo free video calls and chat  :  500,000,000+\n",
      "Calls & Text by Mo+  :  5,000,000+\n",
      "free video calls and chat  :  50,000,000+\n",
      "Skype - free IM & video calls  :  1,000,000,000+\n",
      "Who  :  100,000,000+\n",
      "GO SMS Pro - Messenger, Free Themes, Emoji  :  100,000,000+\n",
      "Messaging+ SMS, MMS Free  :  1,000,000+\n",
      "chomp SMS  :  10,000,000+\n",
      "Glide - Video Chat Messenger  :  10,000,000+\n",
      "Text SMS  :  10,000,000+\n",
      "Talkray - Free Calls & Texts  :  10,000,000+\n",
      "LINE: Free Calls & Messages  :  500,000,000+\n",
      "GroupMe  :  10,000,000+\n",
      "mysms SMS Text Messaging Sync  :  1,000,000+\n",
      "2ndLine - Second Phone Number  :  1,000,000+\n",
      "Google Chrome: Fast & Secure  :  1,000,000,000+\n",
      "Firefox Browser fast & private  :  100,000,000+\n",
      "Ninesky Browser  :  1,000,000+\n",
      "Dolphin Browser - Fast, Private & Adblock🐬  :  50,000,000+\n",
      "UC Browser - Fast Download Private & Secure  :  500,000,000+\n",
      "Ghostery Privacy Browser  :  1,000,000+\n",
      "InBrowser - Incognito Browsing  :  1,000,000+\n",
      "Lightning Web Browser  :  500,000+\n",
      "Web Browser  :  500,000+\n",
      "Contacts+  :  10,000,000+\n",
      "ExDialer - Dialer & Contacts  :  10,000,000+\n",
      "PHONE for Google Voice & GTalk  :  1,000,000+\n",
      "Safest Call Blocker  :  1,000,000+\n",
      "Full Screen Caller ID  :  5,000,000+\n",
      "Hiya - Caller ID & Block  :  10,000,000+\n",
      "Mr. Number-Block calls & spam  :  10,000,000+\n",
      "Should I Answer?  :  1,000,000+\n",
      "RocketDial Dialer & Contacts  :  1,000,000+\n",
      "CIA - Caller ID & Call Blocker  :  5,000,000+\n",
      "Calls Blacklist - Call Blocker  :  10,000,000+\n",
      "Call Control - Call Blocker  :  5,000,000+\n",
      "True Contact - Real Caller ID  :  1,000,000+\n",
      "Video Caller Id  :  1,000,000+\n",
      "Sync.ME – Caller ID & Block  :  5,000,000+\n",
      "Burner - Free Phone Number  :  1,000,000+\n",
      "Caller ID +  :  1,000,000+\n",
      "Gmail  :  1,000,000,000+\n",
      "K-9 Mail  :  5,000,000+\n",
      "myMail – Email for Hotmail, Gmail and Outlook Mail  :  10,000,000+\n",
      "Email TypeApp - Mail App  :  1,000,000+\n",
      "All Email Providers  :  1,000,000+\n",
      "Newton Mail - Email App for Gmail, Outlook, IMAP  :  1,000,000+\n",
      "GO Notifier  :  10,000,000+\n",
      "Mail.Ru - Email App  :  50,000,000+\n",
      "Mail1Click - Secure Mail  :  10,000+\n",
      "Daum Mail - Next Mail  :  5,000,000+\n",
      "mail.com mail  :  1,000,000+\n",
      "SolMail - All-in-One email app  :  500,000+\n",
      "Hangouts  :  1,000,000,000+\n",
      "Vonage Mobile® Call Video Text  :  1,000,000+\n",
      "JusTalk - Free Video Calls and Fun Video Chat  :  5,000,000+\n",
      "Azar  :  50,000,000+\n",
      "LokLok: Draw on a Lock Screen  :  500,000+\n",
      "Discord - Chat for Gamers  :  10,000,000+\n",
      "Messenger Lite: Free Calls & Messages  :  100,000,000+\n",
      "AntennaPict β  :  1,000,000+\n",
      "Talkatone: Free Texts, Calls & Phone Number  :  10,000,000+\n",
      "Kik  :  100,000,000+\n",
      "K-@ Mail - Email App  :  100,000+\n",
      "KakaoTalk: Free Calls & Text  :  100,000,000+\n",
      "K-9 Material (unofficial)  :  5,000+\n",
      "M star Dialer  :  100,000+\n",
      "Free WiFi Connect  :  10,000,000+\n",
      "m:go BiH  :  10,000+\n",
      "N-Com Wizard  :  50,000+\n",
      "Opera Mini - fast web browser  :  100,000,000+\n",
      "Opera Browser: Fast and Secure  :  100,000,000+\n",
      "Opera Mini browser beta  :  10,000,000+\n",
      "Psiphon Pro - The Internet Freedom VPN  :  10,000,000+\n",
      "ICQ — Video Calls & Chat Messenger  :  10,000,000+\n",
      "Telegram  :  100,000,000+\n",
      "AT&T Messages for Tablet  :  1,000,000+\n",
      "T-Mobile DIGITS  :  100,000+\n",
      "Truecaller: Caller ID, SMS spam blocking & Dialer  :  100,000,000+\n",
      "Portable Wi-Fi hotspot  :  10,000,000+\n",
      "AT&T Call Protect  :  5,000,000+\n",
      "U - Webinars, Meetings & Messenger  :  500,000+\n",
      "UC Browser Mini -Tiny Fast Private & Secure  :  100,000,000+\n",
      "/u/app  :  10,000+\n",
      "[verify-U] VideoIdent  :  10,000+\n",
      "Viber Messenger  :  500,000,000+\n",
      "WeChat  :  100,000,000+\n",
      "WhatsApp Business  :  10,000,000+\n",
      "WhatsCall Free Global Phone Call App & Cheap Calls  :  10,000,000+\n",
      "X Browser  :  50,000+\n",
      "Yahoo Mail – Stay Organized  :  100,000,000+\n",
      "Free Adblocker Browser - Adblock & Popup Blocker  :  10,000,000+\n",
      "Adblock Browser for Android  :  10,000,000+\n",
      "CM Browser - Ad Blocker , Fast Download , Privacy  :  50,000,000+\n",
      "Adblock Plus for Samsung Internet - Browse safe.  :  1,000,000+\n",
      "Ad Blocker Turbo - Adblocker Browser  :  10,000+\n",
      "Brave Browser: Fast AdBlocker  :  5,000,000+\n",
      "AG Contacts, Lite edition  :  5,000+\n",
      "Oklahoma Ag Co-op Council  :  10+\n",
      "Bee'ah Employee App  :  100+\n",
      "tournaments and more.aj.2  :  100+\n",
      "Aj.Petra  :  100+\n",
      "AK Phone  :  5,000+\n",
      "PlacarTv Futebol Ao Vivo  :  100,000+\n",
      "WiFi Access Point (hotspot)  :  100,000+\n",
      "Access Point Names  :  10,000+\n",
      "Puffin Web Browser  :  10,000,000+\n",
      "ClanHQ  :  10,000+\n",
      "Ear Agent: Super Hearing  :  5,000,000+\n",
      "Google Voice  :  10,000,000+\n",
      "Google Allo  :  10,000,000+\n",
      "AU Call Blocker - Block Unwanted Calls Texts 2018  :  1,000+\n",
      "Baby Monitor AV  :  100,000+\n",
      "AV Phone  :  1,000+\n",
      "AW - free video calls and chat  :  1,000,000+\n",
      "Katalogen.ax  :  100+\n",
      "AZ Browser. Private & Download  :  100,000+\n",
      "BA SALES  :  1+\n",
      "BD Data Plan (3G & 4G)  :  500,000+\n",
      "BD Internet Packages (Updated)  :  50,000+\n",
      "BD Dialer  :  10,000+\n",
      "BD Live Call  :  5,000+\n",
      "Best Browser BD social networking  :  10+\n",
      "Traffic signs BD  :  500+\n",
      "BF Browser by Betfilter - Stop Gambling Today!  :  10,000+\n",
      "My BF App  :  50,000+\n",
      "BH Mail  :  1,000+\n",
      "Zalo – Video Call  :  50,000,000+\n",
      "BJ - Confidential  :  10+\n",
      "BK Chat  :  1,000+\n",
      "Of the wall Arapaho bk  :  5+\n",
      "AC-BL  :  50+\n",
      "BBM - Free Calls & Messages  :  100,000,000+\n",
      "DMR BrandMeister Tool  :  10,000+\n",
      "BBMoji - Your personalized BBM Stickers  :  1,000,000+\n",
      "BN MALLORCA Radio  :  1,000+\n",
      "BQ Partners  :  1,000+\n",
      "BS-Mobile  :  50+\n",
      "ATC Unico BS  :  500+\n",
      "BT One Voice mobile access  :  5,000+\n",
      "BT Messenger  :  50,000+\n",
      "BT One Phone Mobile App  :  10,000+\n",
      "SW-100.tch by Callstel  :  1,000,000+\n",
      "BT MeetMe with Dolby Voice  :  100,000+\n",
      "Bluetooth Auto Connect  :  5,000,000+\n",
      "AudioBT: BT audio GPS/SMS/Text  :  50,000+\n",
      "BV  :  100+\n",
      "Feel Performer  :  10,000+\n",
      "Tiny Call Confirm  :  1,000,000+\n",
      "CB Radio Chat - for friends!  :  1,000,000+\n",
      "CB On Mobile  :  100,000+\n",
      "Virtual Walkie Talkie  :  1,000,000+\n",
      "Channel 19  :  100,000+\n",
      "Cb browser  :  50+\n",
      "CF Chat: Connecting Friends  :  100+\n",
      "retteMi.ch  :  5,000+\n",
      "Chrome Dev  :  5,000,000+\n",
      "CJ Browser - Fast & Private  :  100+\n",
      "CJ DVD Rentals  :  100+\n",
      "CK Call NEW  :  10+\n",
      "CM Transfer - Share any files with friends nearby  :  5,000,000+\n",
      "mail.co.uk Mail  :  5,000+\n",
      "ClanPlay: Community and Tools for Gamers  :  1,000,000+\n",
      "CQ-Mobile  :  1,000+\n",
      "CQ-Alert  :  500+\n",
      "QRZ Assistant  :  100,000+\n",
      "Pocket Prefix Plus  :  10,000+\n",
      "Ham Radio Prefixes  :  10,000+\n",
      "CS Customizer  :  1,000+\n",
      "CS Browser | #1 & BEST BROWSER  :  1,000+\n",
      "CS Browser Beta  :  5,000+\n",
      "My Vodafone (GR)  :  1,000,000+\n",
      "IZ2UUF Morse Koch CW  :  50,000+\n",
      "C W Browser  :  100+\n",
      "CW Bluetooth SPP  :  100+\n",
      "CW BLE Peripheral Simulator  :  500+\n",
      "Morse Code Reader  :  100,000+\n",
      "Learn Morse Code - G0HYN Learn Morse  :  5,000+\n",
      "Ring  :  10,000+\n",
      "Hyundai CX Conference  :  50+\n",
      "Cy Messenger  :  100+\n",
      "Amadeus GR & CY  :  100+\n",
      "Hlášenírozhlasu.cz  :  10+\n",
      "SMS Sender - sluzba.cz  :  1,000+\n",
      "WEB.DE Mail  :  10,000,000+\n",
      "Your Freedom VPN Client  :  5,000,000+\n",
      "CallApp: Caller ID, Blocker & Phone Call Recorder  :  10,000,000+\n",
      "Rádio Sol Nascente DF  :  500+\n",
      "DG Card  :  100+\n",
      "Whoscall - Caller ID & Block  :  10,000,000+\n",
      "DK Browser  :  10+\n",
      "cluster.dk  :  1,000+\n",
      "DK TEL Dialer  :  50+\n",
      "DM for WhatsApp  :  5,000+\n",
      "DM Talk New  :  5,000+\n",
      "DM - The Offical Messaging App  :  10+\n",
      "DM Tracker  :  1,000+\n",
      "Call Blocker & Blacklist  :  1,000+\n",
      "ReadyOp DT  :  1,000+\n",
      "DU Browser—Browse fast & fun  :  10,000,000+\n",
      "Caller ID & Call Block - DU Caller  :  5,000,000+\n",
      "BlueDV AMBE  :  1,000+\n",
      "DW Contacts & Phone & Dialer  :  1,000,000+\n",
      "Deaf World DW  :  10,000+\n",
      "Ham DX Cluster & Spots Finder  :  5,000+\n",
      "Mircules DX Cluster Lite  :  5,000+\n",
      "3G DZ Configuration  :  50,000+\n",
      "chat dz  :  100+\n",
      "love sms good morning  :  5,000+\n",
      "Goodbox - Mega App  :  100,000+\n",
      "Call Blocker - Blacklist, SMS Blocker  :  1,000,000+\n",
      "[EF]ShoutBox  :  100+\n",
      "Eg Call  :  10,000+\n",
      "ei  :  10+\n",
      "EJ messenger  :  10+\n",
      "Ek IRA  :  10+\n"
     ]
    },
    {
     "name": "stdout",
     "output_type": "stream",
     "text": [
      "Orfox: Tor Browser for Android  :  10,000,000+\n",
      "EO Mumbai  :  10+\n",
      "EP RSS Reader  :  100+\n",
      "Voxer Walkie Talkie Messenger  :  10,000,000+\n",
      "ES-1  :  500+\n",
      "Hangouts Dialer - Call Phones  :  10,000,000+\n",
      "EU Council  :  1,000+\n",
      "Council Voting Calculator  :  5,000+\n",
      "Have your say on Europe  :  500+\n",
      "Programi podrške EU  :  100+\n",
      "Inbox.eu  :  10,000+\n",
      "Web Browser for Android  :  1,000,000+\n",
      "Everbridge  :  100,000+\n",
      "Best Auto Call Recorder Free  :  500+\n",
      "EZ Wifi Notification  :  10,000+\n",
      "Test Server SMS FA  :  5+\n",
      "Lite for Facebook Messenger  :  1,000,000+\n",
      "FC Browser - Focus Privacy Browser  :  1,000+\n",
      "EHiN-FH conferenceapp  :  100+\n",
      "Carpooling FH Hagenberg  :  100+\n",
      "Wi-Fi Auto-connect  :  1,000,000+\n",
      "Talkie - Wi-Fi Calling, Chats, File Sharing  :  500,000+\n",
      "WeFi - Free Fast WiFi Connect & Find Wi-Fi Map  :  1,000,000+\n",
      "Sat-Fi  :  5,000+\n",
      "Portable Wi-Fi hotspot Free  :  100,000+\n",
      "TownWiFi | Wi-Fi Everywhere  :  500,000+\n",
      "Jazz Wi-Fi  :  10,000+\n",
      "Sat-Fi Voice  :  1,000+\n",
      "Free Wi-fi HotspoT  :  50,000+\n",
      "FN Web Radio  :  10+\n",
      "FNH Payment Info  :  10+\n",
      "MARKET FO  :  100+\n",
      "FO OP St-Nazaire  :  100+\n",
      "FO SODEXO  :  100+\n",
      "FO RCBT  :  100+\n",
      "FO Interim  :  100+\n",
      "FO PSA Sept-Fons  :  100+\n",
      "FO AIRBUS TLSE  :  1,000+\n",
      "FO STELIA Méaulte  :  100+\n",
      "FO AIRBUS Nantes  :  100+\n",
      "Firefox Focus: The privacy browser  :  1,000,000+\n",
      "FP Connect  :  100+\n",
      "FreedomPop Messaging Phone/SIM  :  500,000+\n",
      "FP Live  :  10+\n",
      "HipChat - beta version  :  50,000+\n"
     ]
    }
   ],
   "source": [
    "for app in final_android_dataset:\n",
    "    if app[1] == \"COMMUNICATION\":\n",
    "        print(app[0],\" : \", app[5])\n",
    "        "
   ]
  },
  {
   "cell_type": "markdown",
   "metadata": {},
   "source": [
    "On an average communication apps have 38,456,119 installs, but this number is skewed by all the apps have user reviews over 1,000,000,000+, 5,000,000+ 10,000,000+ which means if we remove all of these apps, its average review will drop ten times."
   ]
  },
  {
   "cell_type": "code",
   "execution_count": 41,
   "metadata": {},
   "outputs": [
    {
     "name": "stdout",
     "output_type": "stream",
     "text": [
      "3603485.3884615386\n"
     ]
    }
   ],
   "source": [
    "app_under_100_million = []\n",
    "\n",
    "for app in final_android_dataset:\n",
    "    n_reviews = app[5]\n",
    "    n_reviews = n_reviews.replace('+','')\n",
    "    n_reviews = n_reviews.replace(',','')\n",
    "    reviews = float(n_reviews)\n",
    "    if app[1] == \"COMMUNICATION\" and reviews < 100000000:\n",
    "        app_under_100_million.append(reviews)\n",
    "        \n",
    "print(sum(app_under_100_million)/len(app_under_100_million))"
   ]
  },
  {
   "cell_type": "markdown",
   "metadata": {},
   "source": [
    "We see the same pattern for the video players category, which is the runner-up with 24,727,872 installs. The market is dominated by apps like Youtube, Google Play Movies & TV, or MX Player. The pattern is repeated for social apps (where we have giants like Facebook, Instagram, Google+, etc.), photography apps (Google Photos and other popular photo editors), or productivity apps (Microsoft Word, Dropbox, Google Calendar, Evernote, etc.).\n",
    "\n",
    "Again, the main concern is that these app genres might seem more popular than they really are. Moreover, these niches seem to be dominated by a few giants who are hard to compete against.\n",
    "\n",
    "The game genre seems pretty popular, but previously we found out this part of the market seems a bit saturated, so we'd like to come up with a different app recommendation if possible.\n",
    "\n",
    "The books and reference genre looks fairly popular as well, with an average number of installs of 8,767,811. It's interesting to explore this in more depth, since we found this genre has some potential to work well on the App Store, and our aim is to recommend an app genre that shows potential for being profitable on both the App Store and Google Play.\n",
    "\n",
    "Let's take a look at some of the apps from this genre and their number of installs:"
   ]
  },
  {
   "cell_type": "code",
   "execution_count": 43,
   "metadata": {},
   "outputs": [
    {
     "name": "stdout",
     "output_type": "stream",
     "text": [
      "E-Book Read - Read Book for free  :  50,000+\n",
      "Download free book with green book  :  100,000+\n",
      "Wikipedia  :  10,000,000+\n",
      "Cool Reader  :  10,000,000+\n",
      "Free Panda Radio Music  :  100,000+\n",
      "Book store  :  1,000,000+\n",
      "FBReader: Favorite Book Reader  :  10,000,000+\n",
      "English Grammar Complete Handbook  :  500,000+\n",
      "Free Books - Spirit Fanfiction and Stories  :  1,000,000+\n",
      "Google Play Books  :  1,000,000,000+\n",
      "AlReader -any text book reader  :  5,000,000+\n",
      "Offline English Dictionary  :  100,000+\n",
      "Offline: English to Tagalog Dictionary  :  500,000+\n",
      "FamilySearch Tree  :  1,000,000+\n",
      "Cloud of Books  :  1,000,000+\n",
      "Recipes of Prophetic Medicine for free  :  500,000+\n",
      "ReadEra – free ebook reader  :  1,000,000+\n",
      "Anonymous caller detection  :  10,000+\n",
      "Ebook Reader  :  5,000,000+\n",
      "Litnet - E-books  :  100,000+\n",
      "Read books online  :  5,000,000+\n",
      "English to Urdu Dictionary  :  500,000+\n",
      "eBoox: book reader fb2 epub zip  :  1,000,000+\n",
      "English Persian Dictionary  :  500,000+\n",
      "Flybook  :  500,000+\n",
      "All Maths Formulas  :  1,000,000+\n",
      "Ancestry  :  5,000,000+\n",
      "HTC Help  :  10,000,000+\n",
      "English translation from Bengali  :  100,000+\n",
      "Pdf Book Download - Read Pdf Book  :  100,000+\n",
      "Free Book Reader  :  100,000+\n",
      "eBoox new: Reader for fb2 epub zip books  :  50,000+\n",
      "Only 30 days in English, the guideline is guaranteed  :  500,000+\n",
      "Moon+ Reader  :  10,000,000+\n",
      "SH-02J Owner's Manual (Android 8.0)  :  50,000+\n",
      "English-Myanmar Dictionary  :  1,000,000+\n",
      "Golden Dictionary (EN-AR)  :  1,000,000+\n",
      "All Language Translator Free  :  1,000,000+\n",
      "Azpen eReader  :  500,000+\n",
      "URBANO V 02 instruction manual  :  100,000+\n",
      "Bible  :  100,000,000+\n",
      "C Programs and Reference  :  50,000+\n",
      "C Offline Tutorial  :  1,000+\n",
      "C Programs Handbook  :  50,000+\n",
      "Amazon Kindle  :  100,000,000+\n",
      "Aab e Hayat Full Novel  :  100,000+\n",
      "Aldiko Book Reader  :  10,000,000+\n",
      "Google I/O 2018  :  500,000+\n",
      "R Language Reference Guide  :  10,000+\n",
      "Learn R Programming Full  :  5,000+\n",
      "R Programing Offline Tutorial  :  1,000+\n",
      "Guide for R Programming  :  5+\n",
      "Learn R Programming  :  10+\n",
      "R Quick Reference Big Data  :  1,000+\n",
      "V Made  :  100,000+\n",
      "Wattpad 📖 Free Books  :  100,000,000+\n",
      "Dictionary - WordWeb  :  5,000,000+\n",
      "Guide (for X-MEN)  :  100,000+\n",
      "AC Air condition Troubleshoot,Repair,Maintenance  :  5,000+\n",
      "AE Bulletins  :  1,000+\n",
      "Ae Allah na Dai (Rasa)  :  10,000+\n",
      "50000 Free eBooks & Free AudioBooks  :  5,000,000+\n",
      "Ag PhD Field Guide  :  10,000+\n",
      "Ag PhD Deficiencies  :  10,000+\n",
      "Ag PhD Planting Population Calculator  :  1,000+\n",
      "Ag PhD Soybean Diseases  :  1,000+\n",
      "Fertilizer Removal By Crop  :  50,000+\n",
      "A-J Media Vault  :  50+\n",
      "Al-Quran (Free)  :  10,000,000+\n",
      "Al Quran (Tafsir & by Word)  :  500,000+\n",
      "Al Quran Indonesia  :  10,000,000+\n",
      "Al'Quran Bahasa Indonesia  :  10,000,000+\n",
      "Al Quran Al karim  :  1,000,000+\n",
      "Al-Muhaffiz  :  50,000+\n",
      "Al Quran : EAlim - Translations & MP3 Offline  :  5,000,000+\n",
      "Al-Quran 30 Juz free copies  :  500,000+\n",
      "Koran Read &MP3 30 Juz Offline  :  1,000,000+\n",
      "Hafizi Quran 15 lines per page  :  1,000,000+\n",
      "Quran for Android  :  10,000,000+\n",
      "Surah Al-Waqiah  :  100,000+\n",
      "Hisnul Al Muslim - Hisn Invocations & Adhkaar  :  100,000+\n",
      "Satellite AR  :  1,000,000+\n",
      "Audiobooks from Audible  :  100,000,000+\n",
      "Kinot & Eichah for Tisha B'Av  :  10,000+\n",
      "AW Tozer Devotionals - Daily  :  5,000+\n",
      "Tozer Devotional -Series 1  :  1,000+\n",
      "The Pursuit of God  :  1,000+\n",
      "AY Sing  :  5,000+\n",
      "Ay Hasnain k Nana Milad Naat  :  10,000+\n",
      "Ay Mohabbat Teri Khatir Novel  :  10,000+\n",
      "Arizona Statutes, ARS (AZ Law)  :  1,000+\n",
      "Oxford A-Z of English Usage  :  1,000,000+\n",
      "BD Fishpedia  :  1,000+\n",
      "BD All Sim Offer  :  10,000+\n",
      "Youboox - Livres, BD et magazines  :  500,000+\n",
      "B&H Kids AR  :  10,000+\n",
      "B y H Niños ES  :  5,000+\n",
      "Dictionary.com: Find Definitions for English Words  :  10,000,000+\n",
      "English Dictionary - Offline  :  10,000,000+\n",
      "Bible KJV  :  5,000,000+\n",
      "Borneo Bible, BM Bible  :  10,000+\n",
      "MOD Black for BM  :  100+\n",
      "BM Box  :  1,000+\n",
      "Anime Mod for BM  :  100+\n",
      "NOOK: Read eBooks & Magazines  :  10,000,000+\n",
      "NOOK Audiobooks  :  500,000+\n",
      "NOOK App for NOOK Devices  :  500,000+\n",
      "Browsery by Barnes & Noble  :  5,000+\n",
      "bp e-store  :  1,000+\n",
      "Brilliant Quotes: Life, Love, Family & Motivation  :  1,000,000+\n",
      "BR Ambedkar Biography & Quotes  :  10,000+\n",
      "BU Alsace  :  100+\n",
      "Catholic La Bu Zo Kam  :  500+\n",
      "Khrifa Hla Bu (Solfa)  :  10+\n",
      "Kristian Hla Bu  :  10,000+\n",
      "SA HLA BU  :  1,000+\n",
      "Learn SAP BW  :  500+\n",
      "Learn SAP BW on HANA  :  500+\n",
      "CA Laws 2018 (California Laws and Codes)  :  5,000+\n",
      "Bootable Methods(USB-CD-DVD)  :  10,000+\n",
      "cloudLibrary  :  100,000+\n",
      "SDA Collegiate Quarterly  :  500+\n",
      "Sabbath School  :  100,000+\n",
      "Cypress College Library  :  100+\n",
      "Stats Royale for Clash Royale  :  1,000,000+\n",
      "GATE 21 years CS Papers(2011-2018 Solved)  :  50+\n",
      "Learn CT Scan Of Head  :  5,000+\n",
      "Easy Cv maker 2018  :  10,000+\n",
      "How to Write CV  :  100,000+\n",
      "CW Nuclear  :  1,000+\n",
      "CY Spray nozzle  :  10+\n",
      "BibleRead En Cy Zh Yue  :  5+\n",
      "CZ-Help  :  5+\n",
      "Modlitební knížka CZ  :  500+\n",
      "Guide for DB Xenoverse  :  10,000+\n",
      "Guide for DB Xenoverse 2  :  10,000+\n",
      "Guide for IMS DB  :  10+\n",
      "DC HSEMA  :  5,000+\n",
      "DC Public Library  :  1,000+\n",
      "Painting Lulu DC Super Friends  :  1,000+\n",
      "Dictionary  :  10,000,000+\n",
      "Fix Error Google Playstore  :  1,000+\n",
      "D. H. Lawrence Poems FREE  :  1,000+\n",
      "Bilingual Dictionary Audio App  :  5,000+\n",
      "DM Screen  :  10,000+\n",
      "wikiHow: how to do anything  :  1,000,000+\n",
      "Dr. Doug's Tips  :  1,000+\n",
      "Bible du Semeur-BDS (French)  :  50,000+\n",
      "La citadelle du musulman  :  50,000+\n",
      "DV 2019 Entry Guide  :  10,000+\n",
      "DV 2019 - EDV Photo & Form  :  50,000+\n",
      "DV 2018 Winners Guide  :  1,000+\n",
      "EB Annual Meetings  :  1,000+\n",
      "EC - AP & Telangana  :  5,000+\n",
      "TN Patta Citta & EC  :  10,000+\n",
      "AP Stamps and Registration  :  10,000+\n",
      "CompactiMa EC pH Calibration  :  100+\n",
      "EGW Writings 2  :  100,000+\n",
      "EGW Writings  :  1,000,000+\n",
      "Bible with EGW Comments  :  100,000+\n",
      "My Little Pony AR Guide  :  1,000,000+\n",
      "SDA Sabbath School Quarterly  :  500,000+\n",
      "Duaa Ek Ibaadat  :  5,000+\n",
      "Spanish English Translator  :  10,000,000+\n",
      "Dictionary - Merriam-Webster  :  10,000,000+\n",
      "JW Library  :  10,000,000+\n",
      "Oxford Dictionary of English : Free  :  10,000,000+\n",
      "English Hindi Dictionary  :  10,000,000+\n",
      "English to Hindi Dictionary  :  5,000,000+\n",
      "EP Research Service  :  1,000+\n",
      "Hymnes et Louanges  :  100,000+\n",
      "EU Charter  :  1,000+\n",
      "EU Data Protection  :  1,000+\n",
      "EU IP Codes  :  100+\n",
      "EW PDF  :  5+\n",
      "BakaReader EX  :  100,000+\n",
      "EZ Quran  :  50,000+\n",
      "FA Part 1 & 2 Past Papers Solved Free – Offline  :  5,000+\n",
      "La Fe de Jesus  :  1,000+\n",
      "La Fe de Jesús  :  500+\n",
      "Le Fe de Jesus  :  500+\n",
      "Florida - Pocket Brainbook  :  1,000+\n",
      "Florida Statutes (FL Code)  :  1,000+\n",
      "English To Shona Dictionary  :  10,000+\n",
      "Greek Bible FP (Audio)  :  1,000+\n",
      "Golden Dictionary (FR-AR)  :  500,000+\n",
      "Fanfic-FR  :  5,000+\n",
      "Bulgarian French Dictionary Fr  :  10,000+\n",
      "Chemin (fr)  :  1,000+\n",
      "The SCP Foundation DB fr nn5n  :  1,000+\n"
     ]
    }
   ],
   "source": [
    "for app in final_android_dataset:\n",
    "    if app[1] == \"BOOKS_AND_REFERENCE\":\n",
    "        print(app[0],\" : \", app[5])"
   ]
  },
  {
   "cell_type": "markdown",
   "metadata": {},
   "source": [
    "The book and reference genre includes a variety of apps: software for processing and reading ebooks, various collections of libraries, dictionaries, tutorials on programming or languages, etc. It seems there's still a small number of extremely popular apps that skew the average:"
   ]
  },
  {
   "cell_type": "code",
   "execution_count": 45,
   "metadata": {},
   "outputs": [
    {
     "name": "stdout",
     "output_type": "stream",
     "text": [
      "Google Play Books  :  1,000,000,000+\n",
      "Bible  :  100,000,000+\n",
      "Amazon Kindle  :  100,000,000+\n",
      "Wattpad 📖 Free Books  :  100,000,000+\n",
      "Audiobooks from Audible  :  100,000,000+\n"
     ]
    }
   ],
   "source": [
    "for app in final_android_dataset:\n",
    "    if app[1] == \"BOOKS_AND_REFERENCE\" and (app[5] == '1,000,000,000+' or\n",
    "                                           app[5] == '500,000,000+' or\n",
    "                                           app[5] == '100,000,000+'):\n",
    "        print(app[0],\" : \",app[5])"
   ]
  },
  {
   "cell_type": "markdown",
   "metadata": {},
   "source": [
    "* The most popular apps in genre \"Books and References\" are quite a few therefore as a compitition we dont have to worry about much. \n",
    "* Next we can see if rest of the apps, i.e. apps who have number of reviews less than 100,000,000+ are of what kind and what purpose does each one of them serve.\n",
    "* This will help us stratigies our business plan while developing the app."
   ]
  },
  {
   "cell_type": "code",
   "execution_count": 48,
   "metadata": {},
   "outputs": [
    {
     "name": "stdout",
     "output_type": "stream",
     "text": [
      "Wikipedia : 10,000,000+\n",
      "Cool Reader : 10,000,000+\n",
      "Book store : 1,000,000+\n",
      "FBReader: Favorite Book Reader : 10,000,000+\n",
      "Free Books - Spirit Fanfiction and Stories : 1,000,000+\n",
      "AlReader -any text book reader : 5,000,000+\n",
      "FamilySearch Tree : 1,000,000+\n",
      "Cloud of Books : 1,000,000+\n",
      "ReadEra – free ebook reader : 1,000,000+\n",
      "Ebook Reader : 5,000,000+\n",
      "Read books online : 5,000,000+\n",
      "eBoox: book reader fb2 epub zip : 1,000,000+\n",
      "All Maths Formulas : 1,000,000+\n",
      "Ancestry : 5,000,000+\n",
      "HTC Help : 10,000,000+\n",
      "Moon+ Reader : 10,000,000+\n",
      "English-Myanmar Dictionary : 1,000,000+\n",
      "Golden Dictionary (EN-AR) : 1,000,000+\n",
      "All Language Translator Free : 1,000,000+\n",
      "Aldiko Book Reader : 10,000,000+\n",
      "Dictionary - WordWeb : 5,000,000+\n",
      "50000 Free eBooks & Free AudioBooks : 5,000,000+\n",
      "Al-Quran (Free) : 10,000,000+\n",
      "Al Quran Indonesia : 10,000,000+\n",
      "Al'Quran Bahasa Indonesia : 10,000,000+\n",
      "Al Quran Al karim : 1,000,000+\n",
      "Al Quran : EAlim - Translations & MP3 Offline : 5,000,000+\n",
      "Koran Read &MP3 30 Juz Offline : 1,000,000+\n",
      "Hafizi Quran 15 lines per page : 1,000,000+\n",
      "Quran for Android : 10,000,000+\n",
      "Satellite AR : 1,000,000+\n",
      "Oxford A-Z of English Usage : 1,000,000+\n",
      "Dictionary.com: Find Definitions for English Words : 10,000,000+\n",
      "English Dictionary - Offline : 10,000,000+\n",
      "Bible KJV : 5,000,000+\n",
      "NOOK: Read eBooks & Magazines : 10,000,000+\n",
      "Brilliant Quotes: Life, Love, Family & Motivation : 1,000,000+\n",
      "Stats Royale for Clash Royale : 1,000,000+\n",
      "Dictionary : 10,000,000+\n",
      "wikiHow: how to do anything : 1,000,000+\n",
      "EGW Writings : 1,000,000+\n",
      "My Little Pony AR Guide : 1,000,000+\n",
      "Spanish English Translator : 10,000,000+\n",
      "Dictionary - Merriam-Webster : 10,000,000+\n",
      "JW Library : 10,000,000+\n",
      "Oxford Dictionary of English : Free : 10,000,000+\n",
      "English Hindi Dictionary : 10,000,000+\n",
      "English to Hindi Dictionary : 5,000,000+\n"
     ]
    }
   ],
   "source": [
    "for app in final_android_dataset:\n",
    "    if app[1] == 'BOOKS_AND_REFERENCE' and (app[5] == '1,000,000+'\n",
    "                                            or app[5] == '5,000,000+'\n",
    "                                            or app[5] == '10,000,000+'\n",
    "                                            or app[5] == '50,000,000+'):\n",
    "        print(app[0], ':', app[5])"
   ]
  },
  {
   "cell_type": "markdown",
   "metadata": {},
   "source": [
    "This niche seems to be dominated by software for processing and reading ebooks, as well as various collections of libraries and dictionaries, so it's probably not a good idea to build similar apps since there'll be some significant competition.\n",
    "\n",
    "We also notice there are quite a few apps built around the book Quran, which suggests that building an app around a popular book can be profitable. It seems that taking a popular book (perhaps a more recent book) and turning it into an app could be profitable for both the Google Play and the App Store markets.\n",
    "\n",
    "However, it looks like the market is already full of libraries, so we need to add some special features besides the raw version of the book. This might include daily quotes from the book, an audio version of the book, quizzes on the book, a forum where people can discuss the book, etc.\n",
    "\n",
    "#### Conclusions\n",
    "\n",
    "In this project, we analyzed data about the App Store and Google Play mobile apps with the goal of recommending an app profile that can be profitable for both markets.\n",
    "\n",
    "We concluded that taking a popular book (perhaps a more recent book) and turning it into an app could be profitable for both the Google Play and the App Store markets. The markets are already full of libraries, so we need to add some special features besides the raw version of the book. This might include daily quotes from the book, an audio version of the book, quizzes on the book, a forum where people can discuss the book, etc."
   ]
  }
 ],
 "metadata": {
  "kernelspec": {
   "display_name": "Python 3",
   "language": "python",
   "name": "python3"
  },
  "language_info": {
   "codemirror_mode": {
    "name": "ipython",
    "version": 3
   },
   "file_extension": ".py",
   "mimetype": "text/x-python",
   "name": "python",
   "nbconvert_exporter": "python",
   "pygments_lexer": "ipython3",
   "version": "3.7.3"
  }
 },
 "nbformat": 4,
 "nbformat_minor": 2
}
